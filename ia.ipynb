{
  "nbformat": 4,
  "nbformat_minor": 0,
  "metadata": {
    "colab": {
      "provenance": [],
      "authorship_tag": "ABX9TyOdZg6x7Rz/Y9v3krtOmYW9",
      "include_colab_link": true
    },
    "kernelspec": {
      "name": "python3",
      "display_name": "Python 3"
    },
    "language_info": {
      "name": "python"
    }
  },
  "cells": [
    {
      "cell_type": "markdown",
      "metadata": {
        "id": "view-in-github",
        "colab_type": "text"
      },
      "source": [
        "<a href=\"https://colab.research.google.com/github/dxniiiv/Progra-III-2024/blob/Bloque3/ia.ipynb\" target=\"_parent\"><img src=\"https://colab.research.google.com/assets/colab-badge.svg\" alt=\"Open In Colab\"/></a>"
      ]
    },
    {
      "cell_type": "code",
      "execution_count": 2,
      "metadata": {
        "id": "6Gk1-om-eRcw"
      },
      "outputs": [],
      "source": [
        "#importar la libreria de tensorflow para sumar dos numeros.\n",
        "import tensorflow as tf"
      ]
    },
    {
      "cell_type": "code",
      "source": [
        "num1 = int(input(\"Num 1: \"))\n",
        "num2 = int(input(\"Num 2: \"))\n",
        "\n",
        "a = tf.Variable(num1)\n",
        "b = tf.Variable(num2)\n",
        "\n",
        "print(a)\n",
        "\n",
        "respuesta = tf.add(a,b)\n",
        "\n",
        "print(\"La suma es: \", respuesta.numpy())"
      ],
      "metadata": {
        "colab": {
          "base_uri": "https://localhost:8080/"
        },
        "id": "kyUq7TmUe_lN",
        "outputId": "926ed738-8c8a-4cf7-daf6-180fdade2024"
      },
      "execution_count": 3,
      "outputs": [
        {
          "output_type": "stream",
          "name": "stdout",
          "text": [
            "Num 1: 4\n",
            "Num 2: 7\n",
            "<tf.Variable 'Variable:0' shape=() dtype=int32, numpy=4>\n",
            "La suma es:  11\n"
          ]
        }
      ]
    },
    {
      "cell_type": "markdown",
      "source": [
        "Leer archivos con la libreria panda\n"
      ],
      "metadata": {
        "id": "oDfq45XkfOXe"
      }
    },
    {
      "cell_type": "code",
      "source": [
        "#importar la libreria de pandas.\n",
        "import pandas as pd"
      ],
      "metadata": {
        "id": "uh_lJkoafSXf"
      },
      "execution_count": null,
      "outputs": []
    },
    {
      "cell_type": "code",
      "source": [
        "#leer el archivo de notas\n",
        "ruta = \"/content/notas.csv\"\n",
        "notas = pd.read_csv(ruta, sep=\";\", encoding=\"utf-8\")\n",
        "\n",
        "print(notas[\"nota\"])"
      ],
      "metadata": {
        "id": "LRzxVo4bfW3b"
      },
      "execution_count": null,
      "outputs": []
    },
    {
      "cell_type": "code",
      "source": [
        "#Obtener el listado de alumno aprobados\n",
        "aprobados = notas[notas[\"nota\"]>=6]\n",
        "print(aprobados)"
      ],
      "metadata": {
        "id": "wcBJIf3Dfj3Q"
      },
      "execution_count": null,
      "outputs": []
    },
    {
      "cell_type": "code",
      "source": [
        "#Obtener el listado de reprobados.\n",
        "reprobados = notas[notas[\"nota\"]<6]\n",
        "print(reprobados)"
      ],
      "metadata": {
        "id": "vAu-PdMWfmEP"
      },
      "execution_count": null,
      "outputs": []
    },
    {
      "cell_type": "code",
      "source": [],
      "metadata": {
        "id": "JoQnvCJwfow8"
      },
      "execution_count": null,
      "outputs": []
    },
    {
      "cell_type": "code",
      "source": [
        "#Cuantos (numero) aprobaron la materia.\n",
        "print(\"Numero de Aprobados\", len(aprobados))\n",
        "cantidad_aprobados = notas.loc[notas[\"nota\"]>=6].agg({\"count\"})\n",
        "\n",
        "print(\"Cantdad de aprobados\", cantidad_aprobados)"
      ],
      "metadata": {
        "id": "IM1E0o9Ufolx"
      },
      "execution_count": null,
      "outputs": []
    },
    {
      "cell_type": "code",
      "source": [
        "#Cuantos (Numero) reprobaron la materia\n",
        "cantidad_reprobados = reprobados.agg({\"count\"})\n",
        "print(\"Cantdad de reprobados: \", cantidad_reprobados)"
      ],
      "metadata": {
        "id": "VaiqI6zFfrPa"
      },
      "execution_count": null,
      "outputs": []
    },
    {
      "cell_type": "code",
      "source": [
        "#agrupar por notas.\n",
        "grupo = notas.groupby([\"nota\"]).agg({\n",
        "  'nombre': lambda x: ', '.join(map(str, x))\n",
        "})\n",
        "print(grupo)"
      ],
      "metadata": {
        "id": "4OfbA23lfuMk"
      },
      "execution_count": null,
      "outputs": []
    },
    {
      "cell_type": "markdown",
      "source": [
        "Entrenando una IA de conversor de temperatura"
      ],
      "metadata": {
        "id": "Y_0Iyryrf7UE"
      }
    },
    {
      "cell_type": "code",
      "source": [
        "import tensorflow as tf\n",
        "import pandas as pd\n",
        "import numpy as np\n",
        "\n",
        "temp = pd.read_csv(\"/content/conversor.csv\", sep=\";\", encoding=\"utf-8\")\n",
        "print(temp, temp[\"f\"])"
      ],
      "metadata": {
        "id": "XoQ-Ewymf_jV"
      },
      "execution_count": null,
      "outputs": []
    },
    {
      "cell_type": "code",
      "source": [
        "#datos de entrenamiento\n",
        "celsius = temp[\"c\"]\n",
        "fahrenheit = temp[\"f\"]\n",
        "\n",
        "#print(fahrenheit)"
      ],
      "metadata": {
        "id": "uIDHgY87gCb6"
      },
      "execution_count": null,
      "outputs": []
    },
    {
      "cell_type": "code",
      "source": [
        "#modelo.\n",
        "modelo = tf.keras.Sequential()\n",
        "modelo.add(tf.keras.layers.Dense(units=1, input_shape=[1]))"
      ],
      "metadata": {
        "id": "tPo9fTmsgEk0"
      },
      "execution_count": null,
      "outputs": []
    },
    {
      "cell_type": "code",
      "source": [
        "#compilar nuestro modelo.\n",
        "modelo.compile(optimizer=tf.keras.optimizers.Adam(1.0), loss=\"mean_squared_error\")\n",
        "\n",
        "#entrenamiento\n",
        "epocas = modelo.fit(celsius, fahrenheit, epochs=200, verbose=0)"
      ],
      "metadata": {
        "id": "C-JJCOppgG6l"
      },
      "execution_count": null,
      "outputs": []
    },
    {
      "cell_type": "code",
      "source": [
        "#probar nuestra IA\n",
        "g = int(input(\"Celsius: \"))\n",
        "grados = np.array([g])\n",
        "resp = modelo.predict(grados)\n",
        "print(\"El valor en Farenheits es: \", round(resp[0][0],2) )"
      ],
      "metadata": {
        "id": "gr5WGekJgJIR"
      },
      "execution_count": null,
      "outputs": []
    }
  ]
}