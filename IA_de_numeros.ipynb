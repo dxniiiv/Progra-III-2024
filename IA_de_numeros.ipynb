{
  "nbformat": 4,
  "nbformat_minor": 0,
  "metadata": {
    "colab": {
      "provenance": [],
      "authorship_tag": "ABX9TyPqb5UsX5twCxsiajzdekmy",
      "include_colab_link": true
    },
    "kernelspec": {
      "name": "python3",
      "display_name": "Python 3"
    },
    "language_info": {
      "name": "python"
    }
  },
  "cells": [
    {
      "cell_type": "markdown",
      "metadata": {
        "id": "view-in-github",
        "colab_type": "text"
      },
      "source": [
        "<a href=\"https://colab.research.google.com/github/dxniiiv/Progra-III-2024/blob/Bloque3/IA_de_numeros.ipynb\" target=\"_parent\"><img src=\"https://colab.research.google.com/assets/colab-badge.svg\" alt=\"Open In Colab\"/></a>"
      ]
    },
    {
      "cell_type": "code",
      "execution_count": null,
      "metadata": {
        "id": "1AV_hQMtH4V4"
      },
      "outputs": [],
      "source": [
        "#importar las librerias necesarias\n",
        "import tensorflow as tf\n",
        "import matplotlib.pyplot as plt\n",
        "import numpy as np\n",
        "import pandas as pd\n",
        "import math\n",
        "import tensorflow_datasets as tfds"
      ]
    },
    {
      "cell_type": "code",
      "source": [
        "#cargamos el dataset\n",
        "dataset, metadata = tfds.load('mnist', as_supervised=True, with_info=True)\n",
        "datos_entrenamiento, datos_prueba = dataset['train'], dataset['test']\n",
        "#print(datos_entrenamiento)"
      ],
      "metadata": {
        "colab": {
          "base_uri": "https://localhost:8080/"
        },
        "collapsed": true,
        "id": "pnjz1kK_IlIT",
        "outputId": "9cd75e03-1fef-4342-ee74-a73f37bb68ae"
      },
      "execution_count": null,
      "outputs": [
        {
          "output_type": "stream",
          "name": "stdout",
          "text": [
            "<_PrefetchDataset element_spec=(TensorSpec(shape=(28, 28, 1), dtype=tf.uint8, name=None), TensorSpec(shape=(), dtype=tf.int64, name=None))>\n"
          ]
        }
      ]
    },
    {
      "cell_type": "code",
      "source": [
        "#asignacion de etiquetas\n",
        "numero_letras = [\"Cero\", \"Uno\", \"Dos\" , \"Tres\", \"Cuatro\", \"Cinco\", \"Seis\", \"Siete\", \"Ocho\", \"Nueve\"]"
      ],
      "metadata": {
        "id": "prbnJIDUJKOn"
      },
      "execution_count": null,
      "outputs": []
    },
    {
      "cell_type": "code",
      "source": [
        "#pasar los datos del dataset a variables\n",
        "numeros_ejemplo_entrenamiento = metadata.splits['train'].num_examples\n",
        "#print(numeros_ejemplo_entrenamiento)\n",
        "\n",
        "numeros_ejemplo_prueba = metadata.splits['test'].num_examples\n",
        "#print(numeros_ejemplo_prueba)"
      ],
      "metadata": {
        "colab": {
          "base_uri": "https://localhost:8080/"
        },
        "collapsed": true,
        "id": "jEJpi7MQJawc",
        "outputId": "0ba75318-5808-46bf-da9c-edd6ebf1fbfe"
      },
      "execution_count": null,
      "outputs": [
        {
          "output_type": "stream",
          "name": "stdout",
          "text": [
            "60000\n",
            "10000\n"
          ]
        }
      ]
    },
    {
      "cell_type": "code",
      "source": [
        "img = datos_prueba.take(1)\n",
        "print(img)"
      ],
      "metadata": {
        "colab": {
          "base_uri": "https://localhost:8080/"
        },
        "id": "QSRi5862KPcn",
        "outputId": "5255647f-86fe-41f9-bc05-20421156764c"
      },
      "execution_count": null,
      "outputs": [
        {
          "output_type": "stream",
          "name": "stdout",
          "text": [
            "<_TakeDataset element_spec=(TensorSpec(shape=(28, 28, 1), dtype=tf.uint8, name=None), TensorSpec(shape=(), dtype=tf.int64, name=None))>\n"
          ]
        }
      ]
    },
    {
      "cell_type": "code",
      "source": [
        "#funcion normalizadora de los pixeles de 0 a 255 para que vaya de 0 a 1\n",
        "def normalizacion(imagenes, etiquetas):\n",
        "    imagenes = tf.cast(imagenes, tf.float32)\n",
        "    imagenes /= 255\n",
        "    return imagenes, etiquetas"
      ],
      "metadata": {
        "id": "jmZZ5nS4KdWi"
      },
      "execution_count": null,
      "outputs": []
    },
    {
      "cell_type": "code",
      "source": [
        "#normalizamos los datps de entrenamiento y prueba\n",
        "datos_entrenamiento = datos_entrenamiento.map(normalizacion)\n",
        "datos_prueba = datos_prueba.map(normalizacion)"
      ],
      "metadata": {
        "id": "JR73hv_QK2Go"
      },
      "execution_count": null,
      "outputs": []
    },
    {
      "cell_type": "code",
      "source": [
        "#creamos el modelo de nuestra red neuronal\n",
        "modelo = tf.keras.Sequential([\n",
        "    tf.keras.layers.Flatten(input_shape=(28, 28, 1)),\n",
        "    tf.keras.layers.Dense(64, activation=tf.nn.relu),\n",
        "    tf.keras.layers.Dense(64, activation=tf.nn.relu),\n",
        "    tf.keras.layers.Dense(10, activation=tf.nn.softmax)\n",
        "])"
      ],
      "metadata": {
        "colab": {
          "base_uri": "https://localhost:8080/"
        },
        "id": "fmKkXr0PLALd",
        "outputId": "1fa96404-022a-4986-8abd-92672b2c164b"
      },
      "execution_count": null,
      "outputs": [
        {
          "output_type": "stream",
          "name": "stderr",
          "text": [
            "/usr/local/lib/python3.10/dist-packages/keras/src/layers/reshaping/flatten.py:37: UserWarning: Do not pass an `input_shape`/`input_dim` argument to a layer. When using Sequential models, prefer using an `Input(shape)` object as the first layer in the model instead.\n",
            "  super().__init__(**kwargs)\n"
          ]
        }
      ]
    },
    {
      "cell_type": "code",
      "source": [
        "#compilamos el modelo de la red neuronal\n",
        "modelo.compile(\n",
        "    optimizer='adam',\n",
        "    loss='sparse_categorical_crossentropy',\n",
        "    metrics=['accuracy']\n",
        ")"
      ],
      "metadata": {
        "id": "wnLK2as1MFRq"
      },
      "execution_count": null,
      "outputs": []
    },
    {
      "cell_type": "code",
      "source": [
        "#entrenamos la red neuronal por lotes.\n",
        "tamaño_lote = 32\n",
        "datos_entrenamiento = datos_entrenamiento.repeat().shuffle(numeros_ejemplo_entrenamiento).batch(tamaño_lote)\n",
        "datos_prueba = datos_prueba.batch(tamaño_lote)"
      ],
      "metadata": {
        "id": "jryCRVvuMQ8c"
      },
      "execution_count": null,
      "outputs": []
    },
    {
      "cell_type": "code",
      "source": [
        "#entrenamos nuestro modelo de datos\n",
        "modelo.fit(datos_entrenamiento, epochs=5, steps_per_epoch=math.ceil(numeros_ejemplo_entrenamiento/tamaño_lote))"
      ],
      "metadata": {
        "colab": {
          "base_uri": "https://localhost:8080/"
        },
        "id": "EfPu0x6mNH-0",
        "outputId": "a7a9c278-a39a-43bd-886c-9a318f43e398"
      },
      "execution_count": null,
      "outputs": [
        {
          "output_type": "stream",
          "name": "stdout",
          "text": [
            "Epoch 1/5\n",
            "\u001b[1m1875/1875\u001b[0m \u001b[32m━━━━━━━━━━━━━━━━━━━━\u001b[0m\u001b[37m\u001b[0m \u001b[1m15s\u001b[0m 4ms/step - accuracy: 0.8585 - loss: 0.4824\n",
            "Epoch 2/5\n",
            "\u001b[1m1875/1875\u001b[0m \u001b[32m━━━━━━━━━━━━━━━━━━━━\u001b[0m\u001b[37m\u001b[0m \u001b[1m8s\u001b[0m 4ms/step - accuracy: 0.9580 - loss: 0.1416\n",
            "Epoch 3/5\n",
            "\u001b[1m1875/1875\u001b[0m \u001b[32m━━━━━━━━━━━━━━━━━━━━\u001b[0m\u001b[37m\u001b[0m \u001b[1m6s\u001b[0m 3ms/step - accuracy: 0.9701 - loss: 0.0989\n",
            "Epoch 4/5\n",
            "\u001b[1m1875/1875\u001b[0m \u001b[32m━━━━━━━━━━━━━━━━━━━━\u001b[0m\u001b[37m\u001b[0m \u001b[1m8s\u001b[0m 4ms/step - accuracy: 0.9770 - loss: 0.0731\n",
            "Epoch 5/5\n",
            "\u001b[1m1875/1875\u001b[0m \u001b[32m━━━━━━━━━━━━━━━━━━━━\u001b[0m\u001b[37m\u001b[0m \u001b[1m6s\u001b[0m 3ms/step - accuracy: 0.9820 - loss: 0.0594\n"
          ]
        },
        {
          "output_type": "execute_result",
          "data": {
            "text/plain": [
              "<keras.src.callbacks.history.History at 0x7ff6bc095390>"
            ]
          },
          "metadata": {},
          "execution_count": 19
        }
      ]
    },
    {
      "cell_type": "code",
      "source": [
        "#evaluamos el modelo\n",
        "test_loss, test_accuracy = modelo.evaluate(datos_prueba, steps=math.ceil(numeros_ejemplo_prueba/tamaño_lote))\n",
        "print('Precisión en el conjunto de prueba:', test_accuracy)"
      ],
      "metadata": {
        "colab": {
          "base_uri": "https://localhost:8080/"
        },
        "id": "HVoj-qUINbrg",
        "outputId": "545e0ab7-de0f-41e4-c4b2-d20162baf250"
      },
      "execution_count": null,
      "outputs": [
        {
          "output_type": "stream",
          "name": "stdout",
          "text": [
            "\u001b[1m313/313\u001b[0m \u001b[32m━━━━━━━━━━━━━━━━━━━━\u001b[0m\u001b[37m\u001b[0m \u001b[1m1s\u001b[0m 4ms/step - accuracy: 0.9752 - loss: 0.0796\n",
            "Precisión en el conjunto de prueba: 0.9746000170707703\n"
          ]
        }
      ]
    },
    {
      "cell_type": "code",
      "source": [
        "#convertir en matrices las imagenes usando numpy\n",
        "for imagenes_prueba, etiquetas_prueba in datos_prueba.take(1):\n",
        "    imagenes_prueba = imagenes_prueba.numpy()\n",
        "    etiquetas_prueba = etiquetas_prueba.numpy()\n",
        "    predicciones = modelo.predict(imagenes_prueba)\n",
        "    print(predicciones)"
      ],
      "metadata": {
        "colab": {
          "base_uri": "https://localhost:8080/"
        },
        "collapsed": true,
        "id": "23j6t8U6Nywu",
        "outputId": "8cbd43f8-61c5-40b2-dabe-fb6e6e9022a9"
      },
      "execution_count": null,
      "outputs": [
        {
          "output_type": "stream",
          "name": "stdout",
          "text": [
            "\u001b[1m1/1\u001b[0m \u001b[32m━━━━━━━━━━━━━━━━━━━━\u001b[0m\u001b[37m\u001b[0m \u001b[1m0s\u001b[0m 136ms/step\n",
            "[[1.35205602e-09 5.32650347e-06 9.99991477e-01 1.50634332e-06\n",
            "  7.27063878e-07 4.20775814e-09 4.23586144e-09 7.06550707e-10\n",
            "  9.85726160e-07 2.47903671e-08]\n",
            " [9.99993622e-01 2.17381647e-12 5.98398830e-10 8.63261112e-12\n",
            "  3.93074950e-13 2.09201509e-08 6.35516653e-06 1.30299065e-13\n",
            "  1.28941116e-08 4.85058417e-11]\n",
            " [1.08316161e-13 8.39874303e-07 5.87110013e-11 3.17816412e-10\n",
            "  9.99993861e-01 1.28285291e-14 1.96762538e-16 2.83313307e-06\n",
            "  1.33297506e-09 2.43669251e-06]\n",
            " [3.12275020e-04 1.74563465e-05 6.39599011e-06 4.11462330e-04\n",
            "  1.09614549e-08 4.30292741e-04 3.20068466e-06 1.52916158e-07\n",
            "  9.98809993e-01 8.68583811e-06]\n",
            " [1.57679366e-07 1.88499300e-07 4.06059735e-06 2.03650998e-05\n",
            "  1.88054253e-10 8.20910007e-09 4.04556137e-17 9.99653220e-01\n",
            "  5.61572513e-08 3.21886066e-04]\n",
            " [7.35062811e-09 1.63919995e-12 5.59367108e-10 1.06097032e-12\n",
            "  2.31476307e-07 9.94869788e-06 9.99989808e-01 3.15019865e-16\n",
            "  2.89568032e-08 1.02579891e-08]\n",
            " [9.99999821e-01 4.31234735e-12 6.74753864e-11 3.90822834e-12\n",
            "  3.05041652e-11 5.82521587e-10 1.52970031e-07 3.31010983e-11\n",
            "  4.65859903e-12 4.22209716e-08]\n",
            " [1.70664669e-06 1.25190513e-06 6.75325794e-07 6.43515676e-08\n",
            "  4.87797888e-06 7.54061795e-04 9.98243034e-01 1.51567939e-10\n",
            "  9.93591850e-04 6.76667355e-07]\n",
            " [4.01063124e-12 2.43003928e-08 2.83959002e-06 9.97954249e-01\n",
            "  2.21404470e-12 2.01802026e-03 5.37682086e-11 1.11191015e-12\n",
            "  2.48903434e-05 9.70322711e-10]\n",
            " [4.42312231e-09 9.99963462e-01 9.13298891e-07 5.92780713e-09\n",
            "  3.38300794e-07 1.66767367e-09 3.05810659e-07 3.29300383e-05\n",
            "  2.04325647e-06 3.38430151e-09]\n",
            " [4.45753273e-07 7.97899702e-09 6.39407608e-06 4.39805126e-06\n",
            "  1.09908879e-05 4.82037524e-03 4.82899050e-05 5.39825162e-09\n",
            "  9.95106936e-01 2.02436286e-06]\n",
            " [9.99988258e-01 2.61717254e-12 1.11956513e-06 6.33942954e-10\n",
            "  4.72064565e-09 6.24708479e-11 1.06043035e-05 1.60521292e-12\n",
            "  1.86034033e-08 3.98801099e-08]\n",
            " [5.02662711e-09 8.26968005e-09 6.07109632e-06 4.71909516e-05\n",
            "  7.36784169e-13 1.40593800e-10 6.56591051e-19 9.99923766e-01\n",
            "  8.82299922e-09 2.28834924e-05]\n",
            " [1.55902291e-09 2.01803463e-08 1.10194597e-10 2.44880795e-07\n",
            "  8.79999152e-06 9.56806787e-11 1.15349254e-15 2.55418990e-06\n",
            "  1.12362659e-06 9.99987304e-01]\n",
            " [7.41887106e-06 1.38088978e-07 5.24708121e-05 2.53101007e-05\n",
            "  8.01091277e-11 4.08509004e-09 7.63799246e-10 6.21937835e-09\n",
            "  9.99911964e-01 2.62097979e-06]\n",
            " [6.24272388e-06 1.02511749e-12 5.61482194e-10 1.27360955e-10\n",
            "  9.99154150e-01 4.78523953e-06 8.22620816e-04 8.24076523e-08\n",
            "  1.04631536e-05 1.68934366e-06]\n",
            " [5.24212908e-07 6.01999950e-10 3.51150831e-10 5.86490101e-09\n",
            "  3.88130905e-09 9.99998748e-01 1.44486407e-07 1.05445659e-10\n",
            "  4.22289588e-07 1.89978855e-09]\n",
            " [3.01793898e-06 3.74097690e-05 6.00988960e-06 9.99902785e-01\n",
            "  1.29505828e-09 4.94028500e-05 9.88074245e-09 8.72963142e-08\n",
            "  4.67093031e-07 6.96962957e-07]\n",
            " [1.33281858e-10 3.08142655e-04 1.58227973e-08 2.19533194e-05\n",
            "  9.54549670e-01 2.11661281e-05 6.71530609e-11 1.08128847e-06\n",
            "  1.64985802e-04 4.49330956e-02]\n",
            " [9.92892206e-01 8.19674767e-07 2.50568031e-04 2.49768891e-05\n",
            "  1.12404299e-08 1.78032802e-04 2.26947668e-05 2.03529055e-07\n",
            "  6.32687192e-03 3.03581677e-04]\n",
            " [8.66652190e-05 2.25648250e-07 2.30211504e-06 5.78491104e-08\n",
            "  6.21076879e-06 2.23422918e-04 9.99662876e-01 4.06627265e-09\n",
            "  1.78478640e-05 5.38908466e-07]\n",
            " [5.40269411e-06 5.32643317e-05 4.86683202e-05 6.51543223e-06\n",
            "  4.25554390e-06 1.78142916e-04 9.99684930e-01 1.58242131e-06\n",
            "  1.63330915e-05 9.42486793e-07]\n",
            " [1.53529598e-08 1.08508448e-05 3.17096361e-04 9.99530017e-01\n",
            "  2.17091276e-11 1.41031604e-04 1.16561194e-09 6.14623787e-07\n",
            "  5.18582119e-08 3.29347898e-07]\n",
            " [9.95685279e-01 9.05445347e-07 1.27563762e-04 1.93425649e-06\n",
            "  3.66960961e-07 3.41725070e-04 3.67279933e-03 4.79688866e-09\n",
            "  1.40745527e-04 2.86368977e-05]\n",
            " [9.01844155e-11 2.12854019e-07 9.99983966e-01 1.55424968e-05\n",
            "  1.36648818e-14 1.11664490e-10 1.71890391e-10 1.17919103e-11\n",
            "  1.97808717e-07 7.16988572e-15]\n",
            " [3.81185562e-14 7.62359099e-12 5.98118499e-10 9.99999940e-01\n",
            "  7.40888999e-17 1.64197349e-08 1.01322284e-18 2.53729702e-14\n",
            "  8.36037073e-11 8.20946436e-11]\n",
            " [7.52232609e-06 6.07770286e-04 1.84807781e-04 1.43065272e-05\n",
            "  1.17110849e-05 1.29162020e-03 9.95898068e-01 7.50185123e-08\n",
            "  1.98382838e-03 1.79829669e-07]\n",
            " [2.40202257e-06 1.98514161e-09 6.43726537e-07 1.38873105e-07\n",
            "  2.05110359e-06 1.06927591e-05 9.99983847e-01 7.57289739e-14\n",
            "  1.92007832e-07 3.64988502e-08]\n",
            " [3.02531043e-05 8.43387679e-05 2.93652434e-03 8.47850879e-06\n",
            "  5.53738118e-06 6.96586903e-06 2.10946652e-07 9.96579945e-01\n",
            "  3.40930244e-04 6.84818133e-06]\n",
            " [1.21910398e-05 3.73860826e-06 1.69298929e-07 2.89619155e-08\n",
            "  9.97413635e-01 1.09694184e-07 1.02037184e-07 3.83943378e-04\n",
            "  2.96998373e-08 2.18603457e-03]\n",
            " [2.21108552e-03 3.65865981e-06 5.59781911e-05 1.61839917e-03\n",
            "  7.59289484e-04 1.13030590e-01 5.37887172e-06 2.67621106e-03\n",
            "  3.91991343e-04 8.79247427e-01]\n",
            " [8.28694260e-15 1.08876490e-13 1.89013596e-10 9.99999940e-01\n",
            "  3.56053432e-19 2.22391217e-09 6.07691670e-21 2.44922724e-12\n",
            "  4.79256738e-11 7.43015816e-10]]\n"
          ]
        }
      ]
    },
    {
      "cell_type": "code",
      "source": [
        "def graficar_imagen(i, predicciones_array, etiquetas_reales, imagenes):\n",
        "    predicciones_array, etiqueta_real, img = predicciones_array[i], etiquetas_reales[i], imagenes[i]\n",
        "    plt.grid(False)\n",
        "    plt.xticks([])\n",
        "    plt.yticks([])\n",
        "\n",
        "    plt.imshow(img[...,0], cmap=plt.cm.binary)\n",
        "\n",
        "    etiqueta_prediccion = np.argmax(predicciones_array)\n",
        "    if etiqueta_prediccion == etiqueta_real:\n",
        "        color = 'blue'\n",
        "    else:\n",
        "        color = 'red'\n",
        "    plt.xlabel(\"Prediccion: {}\".format(numero_letras[etiqueta_prediccion]), color=color)"
      ],
      "metadata": {
        "id": "7UVrBeQ1OHnj"
      },
      "execution_count": null,
      "outputs": []
    },
    {
      "cell_type": "code",
      "source": [
        "#graficamos los valores de las matrices.\n",
        "def graficar_valores_predicciones(i, predicciones_array, etiquetas_reales):\n",
        "  predicciones_array, etiqueta_real = predicciones_array[i], etiquetas_reales[i]\n",
        "  plt.grid(False)\n",
        "  plt.xticks(range(10))\n",
        "  plt.yticks([])\n",
        "  thisplot = plt.bar(range(10), predicciones_array, color=\"#888888\")\n",
        "  plt.ylim([0, 1])\n",
        "  etiqueta_prediccion = np.argmax(predicciones_array)\n",
        "\n",
        "  thisplot[etiqueta_prediccion].set_color('red')\n",
        "  thisplot[etiqueta_real].set_color('blue')"
      ],
      "metadata": {
        "id": "e4H7_w3rPOdt"
      },
      "execution_count": null,
      "outputs": []
    },
    {
      "cell_type": "code",
      "source": [
        "#Realizamos la grafica por cada imagen.\n",
        "num_filas = 5\n",
        "num_columnas = 3\n",
        "num_imagenes = num_filas*num_columnas\n",
        "plt.figure(figsize=(2*2*num_columnas, 2*num_filas))\n",
        "for i in range(num_imagenes):\n",
        "  plt.subplot(num_filas, 2*num_columnas, 2*i+1)\n",
        "  graficar_imagen(i, predicciones, etiquetas_prueba, imagenes_prueba)\n",
        "  plt.subplot(num_filas, 2*num_columnas, 2*i+2)\n",
        "  graficar_valores_predicciones(i, predicciones, etiquetas_prueba)\n",
        "plt.show()"
      ],
      "metadata": {
        "colab": {
          "base_uri": "https://localhost:8080/",
          "height": 830
        },
        "id": "sbmLVNQTSl3j",
        "outputId": "2da5117b-60b4-4e62-a343-b7badcd0edbd"
      },
      "execution_count": null,
      "outputs": [
        {
          "output_type": "display_data",
          "data": {
            "text/plain": [
              "<Figure size 1200x1000 with 30 Axes>"
            ],
            "image/png": "[encoded data removed]"
          },
          "metadata": {}
        }
      ]
    },
    {
      "cell_type": "code",
      "source": [
        "import tensorflow as tf\n",
        "from tensorflow.keras import layers, models\n",
        "import numpy as np\n",
        "import matplotlib.pyplot as plt\n",
        "from google.colab import files\n",
        "from PIL import Image\n",
        "\n",
        "fashion_mnist = tf.keras.datasets.fashion_mnist\n",
        "(train_images, train_labels), (test_images, test_labels) = fashion_mnist.load_data()\n",
        "\n",
        "etiquetas = [\n",
        "    \"Camiseta\", \"Pantalón\", \"Suéter\", \"Vestido\", \"Abrigo\",\n",
        "    \"Sandalia\", \"Camisa\", \"Zapatilla\", \"Bolso\", \"Botín\"\n",
        "]\n",
        "\n",
        "train_images = train_images / 255.0\n",
        "test_images = test_images / 255.0\n",
        "\n",
        "plt.figure(figsize=(10, 10))\n",
        "for i in range(10):\n",
        "    plt.subplot(2, 5, i + 1)\n",
        "    plt.xticks([])\n",
        "    plt.yticks([])\n",
        "    plt.grid(False)\n",
        "    plt.imshow(train_images[i], cmap=plt.cm.binary)\n",
        "    plt.xlabel(etiquetas[train_labels[i]])\n",
        "plt.show()\n",
        "\n",
        "model = models.Sequential([\n",
        "    layers.Reshape((28, 28, 1), input_shape=(28, 28)),\n",
        "    layers.Conv2D(32, (3, 3), activation='relu'),\n",
        "    layers.MaxPooling2D((2, 2)),\n",
        "    layers.Conv2D(64, (3, 3), activation='relu'),\n",
        "    layers.MaxPooling2D((2, 2)),\n",
        "    layers.Conv2D(64, (3, 3), activation='relu'),\n",
        "    layers.Flatten(),\n",
        "    layers.Dense(64, activation='relu'),\n",
        "    layers.Dense(10, activation='softmax')\n",
        "])\n",
        "\n",
        "model.compile(optimizer='adam',\n",
        "              loss='sparse_categorical_crossentropy',\n",
        "              metrics=['accuracy'])\n",
        "\n",
        "print(\"Entrenando el modelo...\")\n",
        "model.fit(train_images, train_labels, epochs=5, validation_data=(test_images, test_labels))\n",
        "\n",
        "print(\"Evaluando el modelo...\")\n",
        "test_loss, test_acc = model.evaluate(test_images, test_labels, verbose=2)\n",
        "print(f\"Precisión en el conjunto de prueba: {test_acc * 100:.2f}%\")\n",
        "\n",
        "print(\"\\nSube tus imágenes (1 por cada etiqueta):\")\n",
        "uploaded = files.upload()\n",
        "\n",
        "for filename in uploaded.keys():\n",
        "    print(f\"\\nProcesando imagen: {filename}\")\n",
        "    img = Image.open(filename).convert(\"L\").resize((28, 28))\n",
        "    img_array = np.array(img) / 255.0\n",
        "\n",
        "    if img_array.shape != (28, 28):\n",
        "        print(f\"Advertencia: La imagen {filename} no tiene el tamaño adecuado (28x28).\")\n",
        "\n",
        "    img_array = np.expand_dims(img_array, axis=0)\n",
        "\n",
        "    predictions = model.predict(img_array)\n",
        "\n",
        "    print(f\"Probabilidades de todas las clases para {filename}: {predictions}\")\n",
        "\n",
        "    etiqueta_predicha = etiquetas[np.argmax(predictions)]\n",
        "    print(f\"La imagen {filename} fue clasificada como: {etiqueta_predicha}\")\n",
        "\n",
        "    plt.imshow(img, cmap=plt.cm.binary)\n",
        "    plt.title(f\"Predicción: {etiqueta_predicha}\")\n",
        "    plt.axis('off')\n",
        "    plt.show()"
      ],
      "metadata": {
        "colab": {
          "base_uri": "https://localhost:8080/",
          "height": 1000
        },
        "id": "p8vCXJKJJUC7",
        "outputId": "c5d10160-16d0-4475-ed86-d39693661c5f"
      },
      "execution_count": 2,
      "outputs": [
        {
          "output_type": "display_data",
          "data": {
            "text/plain": [
              "<Figure size 1000x1000 with 10 Axes>"
            ],
            "image/png": "[encoded data removed]"
          },
          "metadata": {}
        },
        {
          "output_type": "stream",
          "name": "stdout",
          "text": [
            "Entrenando el modelo...\n",
            "Epoch 1/5\n",
            "\u001b[1m1875/1875\u001b[0m \u001b[32m━━━━━━━━━━━━━━━━━━━━\u001b[0m\u001b[37m\u001b[0m \u001b[1m64s\u001b[0m 33ms/step - accuracy: 0.7484 - loss: 0.6822 - val_accuracy: 0.8614 - val_loss: 0.3771\n",
            "Epoch 2/5\n",
            "\u001b[1m1875/1875\u001b[0m \u001b[32m━━━━━━━━━━━━━━━━━━━━\u001b[0m\u001b[37m\u001b[0m \u001b[1m62s\u001b[0m 33ms/step - accuracy: 0.8796 - loss: 0.3278 - val_accuracy: 0.8892 - val_loss: 0.3105\n",
            "Epoch 3/5\n",
            "\u001b[1m1875/1875\u001b[0m \u001b[32m━━━━━━━━━━━━━━━━━━━━\u001b[0m\u001b[37m\u001b[0m \u001b[1m83s\u001b[0m 34ms/step - accuracy: 0.8973 - loss: 0.2797 - val_accuracy: 0.8910 - val_loss: 0.3000\n",
            "Epoch 4/5\n",
            "\u001b[1m1875/1875\u001b[0m \u001b[32m━━━━━━━━━━━━━━━━━━━━\u001b[0m\u001b[37m\u001b[0m \u001b[1m82s\u001b[0m 34ms/step - accuracy: 0.9108 - loss: 0.2395 - val_accuracy: 0.9038 - val_loss: 0.2682\n",
            "Epoch 5/5\n",
            "\u001b[1m1875/1875\u001b[0m \u001b[32m━━━━━━━━━━━━━━━━━━━━\u001b[0m\u001b[37m\u001b[0m \u001b[1m79s\u001b[0m 33ms/step - accuracy: 0.9203 - loss: 0.2159 - val_accuracy: 0.9027 - val_loss: 0.2798\n",
            "Evaluando el modelo...\n",
            "313/313 - 3s - 9ms/step - accuracy: 0.9027 - loss: 0.2798\n",
            "Precisión en el conjunto de prueba: 90.27%\n",
            "\n",
            "Sube tus imágenes (1 por cada etiqueta):\n"
          ]
        },
        {
          "output_type": "display_data",
          "data": {
            "text/plain": [
              "<IPython.core.display.HTML object>"
            ],
            "text/html": [
              "\n",
              "     <input type=\"file\" id=\"files-ba65de4f-1ab3-4d4b-834f-b2e971659aaa\" name=\"files[]\" multiple disabled\n",
              "        style=\"border:none\" />\n",
              "     <output id=\"result-ba65de4f-1ab3-4d4b-834f-b2e971659aaa\">\n",
              "      Upload widget is only available when the cell has been executed in the\n",
              "      current browser session. Please rerun this cell to enable.\n",
              "      </output>\n",
              "      <script>// Copyright 2017 Google LLC\n",
              "//\n",
              "// Licensed under the Apache License, Version 2.0 (the \"License\");\n",
              "// you may not use this file except in compliance with the License.\n",
              "// You may obtain a copy of the License at\n",
              "//\n",
              "//      http://www.apache.org/licenses/LICENSE-2.0\n",
              "//\n",
              "// Unless required by applicable law or agreed to in writing, software\n",
              "// distributed under the License is distributed on an \"AS IS\" BASIS,\n",
              "// WITHOUT WARRANTIES OR CONDITIONS OF ANY KIND, either express or implied.\n",
              "// See the License for the specific language governing permissions and\n",
              "// limitations under the License.\n",
              "\n",
              "/**\n",
              " * @fileoverview Helpers for google.colab Python module.\n",
              " */\n",
              "(function(scope) {\n",
              "function span(text, styleAttributes = {}) {\n",
              "  const element = document.createElement('span');\n",
              "  element.textContent = text;\n",
              "  for (const key of Object.keys(styleAttributes)) {\n",
              "    element.style[key] = styleAttributes[key];\n",
              "  }\n",
              "  return element;\n",
              "}\n",
              "\n",
              "// Max number of bytes which will be uploaded at a time.\n",
              "const MAX_PAYLOAD_SIZE = 100 * 1024;\n",
              "\n",
              "function _uploadFiles(inputId, outputId) {\n",
              "  const steps = uploadFilesStep(inputId, outputId);\n",
              "  const outputElement = document.getElementById(outputId);\n",
              "  // Cache steps on the outputElement to make it available for the next call\n",
              "  // to uploadFilesContinue from Python.\n",
              "  outputElement.steps = steps;\n",
              "\n",
              "  return _uploadFilesContinue(outputId);\n",
              "}\n",
              "\n",
              "// This is roughly an async generator (not supported in the browser yet),\n",
              "// where there are multiple asynchronous steps and the Python side is going\n",
              "// to poll for completion of each step.\n",
              "// This uses a Promise to block the python side on completion of each step,\n",
              "// then passes the result of the previous step as the input to the next step.\n",
              "function _uploadFilesContinue(outputId) {\n",
              "  const outputElement = document.getElementById(outputId);\n",
              "  const steps = outputElement.steps;\n",
              "\n",
              "  const next = steps.next(outputElement.lastPromiseValue);\n",
              "  return Promise.resolve(next.value.promise).then((value) => {\n",
              "    // Cache the last promise value to make it available to the next\n",
              "    // step of the generator.\n",
              "    outputElement.lastPromiseValue = value;\n",
              "    return next.value.response;\n",
              "  });\n",
              "}\n",
              "\n",
              "/**\n",
              " * Generator function which is called between each async step of the upload\n",
              " * process.\n",
              " * @param {string} inputId Element ID of the input file picker element.\n",
              " * @param {string} outputId Element ID of the output display.\n",
              " * @return {!Iterable<!Object>} Iterable of next steps.\n",
              " */\n",
              "function* uploadFilesStep(inputId, outputId) {\n",
              "  const inputElement = document.getElementById(inputId);\n",
              "  inputElement.disabled = false;\n",
              "\n",
              "  const outputElement = document.getElementById(outputId);\n",
              "  outputElement.innerHTML = '';\n",
              "\n",
              "  const pickedPromise = new Promise((resolve) => {\n",
              "    inputElement.addEventListener('change', (e) => {\n",
              "      resolve(e.target.files);\n",
              "    });\n",
              "  });\n",
              "\n",
              "  const cancel = document.createElement('button');\n",
              "  inputElement.parentElement.appendChild(cancel);\n",
              "  cancel.textContent = 'Cancel upload';\n",
              "  const cancelPromise = new Promise((resolve) => {\n",
              "    cancel.onclick = () => {\n",
              "      resolve(null);\n",
              "    };\n",
              "  });\n",
              "\n",
              "  // Wait for the user to pick the files.\n",
              "  const files = yield {\n",
              "    promise: Promise.race([pickedPromise, cancelPromise]),\n",
              "    response: {\n",
              "      action: 'starting',\n",
              "    }\n",
              "  };\n",
              "\n",
              "  cancel.remove();\n",
              "\n",
              "  // Disable the input element since further picks are not allowed.\n",
              "  inputElement.disabled = true;\n",
              "\n",
              "  if (!files) {\n",
              "    return {\n",
              "      response: {\n",
              "        action: 'complete',\n",
              "      }\n",
              "    };\n",
              "  }\n",
              "\n",
              "  for (const file of files) {\n",
              "    const li = document.createElement('li');\n",
              "    li.append(span(file.name, {fontWeight: 'bold'}));\n",
              "    li.append(span(\n",
              "        `(${file.type || 'n/a'}) - ${file.size} bytes, ` +\n",
              "        `last modified: ${\n",
              "            file.lastModifiedDate ? file.lastModifiedDate.toLocaleDateString() :\n",
              "                                    'n/a'} - `));\n",
              "    const percent = span('0% done');\n",
              "    li.appendChild(percent);\n",
              "\n",
              "    outputElement.appendChild(li);\n",
              "\n",
              "    const fileDataPromise = new Promise((resolve) => {\n",
              "      const reader = new FileReader();\n",
              "      reader.onload = (e) => {\n",
              "        resolve(e.target.result);\n",
              "      };\n",
              "      reader.readAsArrayBuffer(file);\n",
              "    });\n",
              "    // Wait for the data to be ready.\n",
              "    let fileData = yield {\n",
              "      promise: fileDataPromise,\n",
              "      response: {\n",
              "        action: 'continue',\n",
              "      }\n",
              "    };\n",
              "\n",
              "    // Use a chunked sending to avoid message size limits. See b/62115660.\n",
              "    let position = 0;\n",
              "    do {\n",
              "      const length = Math.min(fileData.byteLength - position, MAX_PAYLOAD_SIZE);\n",
              "      const chunk = new Uint8Array(fileData, position, length);\n",
              "      position += length;\n",
              "\n",
              "      const base64 = btoa(String.fromCharCode.apply(null, chunk));\n",
              "      yield {\n",
              "        response: {\n",
              "          action: 'append',\n",
              "          file: file.name,\n",
              "          data: base64,\n",
              "        },\n",
              "      };\n",
              "\n",
              "      let percentDone = fileData.byteLength === 0 ?\n",
              "          100 :\n",
              "          Math.round((position / fileData.byteLength) * 100);\n",
              "      percent.textContent = `${percentDone}% done`;\n",
              "\n",
              "    } while (position < fileData.byteLength);\n",
              "  }\n",
              "\n",
              "  // All done.\n",
              "  yield {\n",
              "    response: {\n",
              "      action: 'complete',\n",
              "    }\n",
              "  };\n",
              "}\n",
              "\n",
              "scope.google = scope.google || {};\n",
              "scope.google.colab = scope.google.colab || {};\n",
              "scope.google.colab._files = {\n",
              "  _uploadFiles,\n",
              "  _uploadFilesContinue,\n",
              "};\n",
              "})(self);\n",
              "</script> "
            ]
          },
          "metadata": {}
        },
        {
          "output_type": "stream",
          "name": "stdout",
          "text": [
            "Saving sandaliaprueba.jpg to sandaliaprueba.jpg\n",
            "\n",
            "Procesando imagen: sandaliaprueba.jpg\n",
            "\u001b[1m1/1\u001b[0m \u001b[32m━━━━━━━━━━━━━━━━━━━━\u001b[0m\u001b[37m\u001b[0m \u001b[1m0s\u001b[0m 84ms/step\n",
            "Probabilidades de todas las clases para sandaliaprueba.jpg: [[3.8463040e-03 1.3738722e-04 3.1403324e-04 1.6234171e-05 3.2747223e-04\n",
            "  1.9864305e-05 4.4024262e-05 5.2698986e-05 9.9521130e-01 3.0708634e-05]]\n",
            "La imagen sandaliaprueba.jpg fue clasificada como: Bolso\n"
          ]
        },
        {
          "output_type": "display_data",
          "data": {
            "text/plain": [
              "<Figure size 640x480 with 1 Axes>"
            ],
            "image/png": "[encoded data removed]"
          },
          "metadata": {}
        }
      ]
    }
  ]
}