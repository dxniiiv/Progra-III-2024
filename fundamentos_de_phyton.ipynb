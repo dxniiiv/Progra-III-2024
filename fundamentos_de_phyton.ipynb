{
  "nbformat": 4,
  "nbformat_minor": 0,
  "metadata": {
    "colab": {
      "provenance": [],
      "authorship_tag": "ABX9TyNWre0rPg20Gr7GVuLK4+Rk",
      "include_colab_link": true
    },
    "kernelspec": {
      "name": "python3",
      "display_name": "Python 3"
    },
    "language_info": {
      "name": "python"
    }
  },
  "cells": [
    {
      "cell_type": "markdown",
      "metadata": {
        "id": "view-in-github",
        "colab_type": "text"
      },
      "source": [
        "<a href=\"https://colab.research.google.com/github/dxniiiv/Progra-III-2024/blob/main/fundamentos_de_phyton.ipynb\" target=\"_parent\"><img src=\"https://colab.research.google.com/assets/colab-badge.svg\" alt=\"Open In Colab\"/></a>"
      ]
    },
    {
      "cell_type": "code",
      "execution_count": null,
      "metadata": {
        "id": "s52sVGCvuehm",
        "colab": {
          "base_uri": "https://localhost:8080/"
        },
        "outputId": "bd8d560e-e52d-4654-f0a1-b3900bbd6329"
      },
      "outputs": [
        {
          "output_type": "stream",
          "name": "stdout",
          "text": [
            "Hola Mundo\n",
            "Hola  Dani , inicial:  D i\n"
          ]
        }
      ],
      "source": [
        "print(\"Hola Mundo\")\n",
        "nombre = \"Dani\"\n",
        "\n",
        "print(\"Hola \", nombre, \", inicial: \", nombre[0], nombre[3])"
      ]
    },
    {
      "cell_type": "markdown",
      "source": [
        "Ejercicio: crear un programa en phyton que sume dos numeros"
      ],
      "metadata": {
        "id": "Vb1yjrcdw4o_"
      }
    },
    {
      "cell_type": "code",
      "source": [
        "num1 = 5\n",
        "num2 = 9.5\n",
        "resp = num1 + num2\n",
        "print(\"La suma es: \", resp)"
      ],
      "metadata": {
        "id": "lsr1ffD_xFeQ",
        "outputId": "6d2e50d8-02ca-457b-f189-2795f76c41d7",
        "colab": {
          "base_uri": "https://localhost:8080/"
        }
      },
      "execution_count": null,
      "outputs": [
        {
          "output_type": "stream",
          "name": "stdout",
          "text": [
            "La suma es:  14.5\n"
          ]
        }
      ]
    },
    {
      "cell_type": "markdown",
      "source": [
        "Ejercicio, crear un programa en phyton que sume dos numeros introducidos por el usuario"
      ],
      "metadata": {
        "id": "_yfeJKgh3it3"
      }
    },
    {
      "cell_type": "code",
      "source": [
        "print(\"Num 1\")\n",
        "num1 = int(input())\n",
        "\n",
        "print(\"Num 2\")\n",
        "num2 = float(input())\n",
        "\n",
        "resp = num1 + num2\n",
        "print(\"La suma es: \", resp)"
      ],
      "metadata": {
        "id": "R3dzCu9J3yZf",
        "outputId": "924716d2-7aae-4946-909b-f4351e907a6b",
        "colab": {
          "base_uri": "https://localhost:8080/"
        }
      },
      "execution_count": null,
      "outputs": [
        {
          "output_type": "stream",
          "name": "stdout",
          "text": [
            "Num 1\n",
            "10\n",
            "Num 2\n",
            "15\n",
            "La suma es:  25.0\n"
          ]
        }
      ]
    },
    {
      "cell_type": "code",
      "source": [
        "#Tipos de datos\n",
        "num1 = 5 #entero\n",
        "num2 = 5.9 #decimal\n",
        "nombre = \"Daniel Vargas\" #cadenas\n",
        "print(nombre, nombre[0:4], nombre[:4], nombre[-1], nombre[5:len(nombre)])\n",
        "\n",
        "estado = True\n",
        "print(estado)\n",
        "\n",
        "print(type(nombre), type(num1), type(num2), type(estado) )"
      ],
      "metadata": {
        "id": "jzBDryFZ4d3i",
        "outputId": "9c069965-d53b-44fe-c37f-172206cb3892",
        "colab": {
          "base_uri": "https://localhost:8080/"
        }
      },
      "execution_count": null,
      "outputs": [
        {
          "output_type": "stream",
          "name": "stdout",
          "text": [
            "Daniel Vargas Dani Dani s l Vargas\n",
            "True\n",
            "<class 'str'> <class 'int'> <class 'float'> <class 'bool'>\n"
          ]
        }
      ]
    },
    {
      "cell_type": "markdown",
      "source": [
        "Ejercicio, cree un programa en phyton que lea un numero y determine si es par o impar"
      ],
      "metadata": {
        "id": "RJkzY7Xa5cMl"
      }
    },
    {
      "cell_type": "code",
      "source": [
        "num = int(input(\"Ingrese un numero:\"))\n",
        "if num % 2 == 0:\n",
        "  print(\"El numero es par\", num)\n",
        "else:\n",
        "    print(\"El numero es impar\")"
      ],
      "metadata": {
        "id": "ZXq3mYNN5lqm",
        "outputId": "31d90df9-f66f-4087-959c-ebb324e2b8cc",
        "colab": {
          "base_uri": "https://localhost:8080/"
        }
      },
      "execution_count": null,
      "outputs": [
        {
          "output_type": "stream",
          "name": "stdout",
          "text": [
            "Ingrese un numero:10\n",
            "El numero es par 10\n"
          ]
        }
      ]
    },
    {
      "cell_type": "markdown",
      "source": [
        "Ejercicio: Uso de las funciones de usuario, con la suma de dos numeros"
      ],
      "metadata": {
        "id": "Ac8IXG1mrssr"
      }
    },
    {
      "cell_type": "code",
      "source": [
        "def suma (num1, num2):\n",
        "  return num1 + num2"
      ],
      "metadata": {
        "id": "sQ_QPk0_rzTm"
      },
      "execution_count": 1,
      "outputs": []
    },
    {
      "cell_type": "code",
      "source": [
        "num1 = float(input(\"Num 1:  \"))\n",
        "num2 = float(input(\"Num 2:  \"))\n",
        "\n",
        "resp = suma(num1, num2)\n",
        "print(\"La suma es: \", resp)"
      ],
      "metadata": {
        "id": "wciHbjy1r-Sb",
        "outputId": "81afdf22-ec90-4fe1-e8df-8837d5e55aa0",
        "colab": {
          "base_uri": "https://localhost:8080/"
        }
      },
      "execution_count": 2,
      "outputs": [
        {
          "output_type": "stream",
          "name": "stdout",
          "text": [
            "Num 1:  10\n",
            "Num 2:  15\n",
            "La suma es:  25.0\n"
          ]
        }
      ]
    },
    {
      "cell_type": "markdown",
      "source": [
        "Ejercicio: Coonvertir grados celsius a farenheit, usando funciones de usuario."
      ],
      "metadata": {
        "id": "QgZWt7aZuAAG"
      }
    },
    {
      "cell_type": "code",
      "source": [
        "def convertir_cf(c):\n",
        "  return c*1.8 + 32"
      ],
      "metadata": {
        "id": "6Xho5CESuClt"
      },
      "execution_count": 3,
      "outputs": []
    },
    {
      "cell_type": "code",
      "source": [
        "c = float(input(\"Celsius: \"))\n",
        "print(\"F: \", convertir_cf(c))"
      ],
      "metadata": {
        "id": "zCyDJiE2uGO2",
        "outputId": "e50d9832-c975-4837-a568-a035c00c561e",
        "colab": {
          "base_uri": "https://localhost:8080/"
        }
      },
      "execution_count": 4,
      "outputs": [
        {
          "output_type": "stream",
          "name": "stdout",
          "text": [
            "Celsius: 30\n",
            "F:  86.0\n"
          ]
        }
      ]
    },
    {
      "cell_type": "markdown",
      "source": [
        "Ejercicio: Determina si un numero es par o impar"
      ],
      "metadata": {
        "id": "uG9k6LanuO5i"
      }
    },
    {
      "cell_type": "code",
      "source": [
        "def parImpar(num):\n",
        "  if(num%2==0):\n",
        "    return \"par\"\n",
        "  return \"impar\""
      ],
      "metadata": {
        "id": "ZPuDjhhkuRAr"
      },
      "execution_count": 5,
      "outputs": []
    },
    {
      "cell_type": "code",
      "source": [
        "num = int(input(\"Num: \"))\n",
        "print(\"EL numero \", num, \" es: \", parImpar(num))"
      ],
      "metadata": {
        "id": "MfL3pksWuUTv",
        "outputId": "5f899ffd-6a8b-4371-e518-c503495c5562",
        "colab": {
          "base_uri": "https://localhost:8080/"
        }
      },
      "execution_count": 6,
      "outputs": [
        {
          "output_type": "stream",
          "name": "stdout",
          "text": [
            "Num: 12\n",
            "EL numero  12  es:  par\n"
          ]
        }
      ]
    },
    {
      "cell_type": "markdown",
      "source": [
        "Ejercicio: Calcular el sueldo de un trabajador."
      ],
      "metadata": {
        "id": "wm4b4Jxuugnz"
      }
    },
    {
      "cell_type": "code",
      "source": [
        "def sueldo(numHrs, valorXHrs):\n",
        "  sueldo = numHrs * valorXHrs * 30 # 10*1.5*30 = 450\n",
        "  if(numHrs>8):\n",
        "    sueldo = sueldo + (numHrs-8) * valorXHrs * 30 # 2*1.5*30 = 90\n",
        "  return sueldo"
      ],
      "metadata": {
        "id": "gfWGvSdWujuZ"
      },
      "execution_count": 7,
      "outputs": []
    },
    {
      "cell_type": "code",
      "source": [
        "numHrs = int(input(\"Horas: \"))\n",
        "valorXHrs = float(input(\"Valor: \"))\n",
        "\n",
        "print(\"Sueldo: \", sueldo(numHrs, valorXHrs))"
      ],
      "metadata": {
        "id": "6yXcQD7aunT2",
        "outputId": "de2b590a-2a89-4030-8084-c2ca7be77ba6",
        "colab": {
          "base_uri": "https://localhost:8080/"
        }
      },
      "execution_count": 8,
      "outputs": [
        {
          "output_type": "stream",
          "name": "stdout",
          "text": [
            "Horas: 8\n",
            "Valor: 1.5\n",
            "Sueldo:  360.0\n"
          ]
        }
      ]
    },
    {
      "cell_type": "markdown",
      "source": [
        "Tarea ejercicio 1: Convertir grados farenheits a celsius"
      ],
      "metadata": {
        "id": "P1sCkGBOuvtc"
      }
    },
    {
      "cell_type": "code",
      "source": [
        "def convertir_fc(f):\n",
        "  return (f - 32) * 5.0/9.0\n",
        "\n",
        "f = float(input(\"Introduce la temperatura en grados Fahrenheit: \"))\n",
        "print(\"Celsius: \", convertir_fc(f))"
      ],
      "metadata": {
        "id": "eeF9ECwKu62z",
        "outputId": "9ed4171e-3674-4eb7-cf54-18c35dbea927",
        "colab": {
          "base_uri": "https://localhost:8080/"
        }
      },
      "execution_count": 9,
      "outputs": [
        {
          "output_type": "stream",
          "name": "stdout",
          "text": [
            "Introduce la temperatura en grados Fahrenheit: 86\n",
            "Celsius:  30.0\n"
          ]
        }
      ]
    },
    {
      "cell_type": "markdown",
      "source": [
        "Tarea ejercicio 2: Convertir grados celsius y fahrenheit a kelvin\n"
      ],
      "metadata": {
        "id": "PsLj1Av9xEkp"
      }
    },
    {
      "cell_type": "code",
      "source": [
        "def celsius_kelvin(c):\n",
        "  return c + 273.15\n",
        "\n",
        "def fahrenheit_kelvin(f):\n",
        "  return (f - 32) * 5/9 + 273.15\n",
        "\n",
        "def main():\n",
        "    print(\"Conversión de temperatura a Kelvin\")\n",
        "    print(\"Seleccione la temperatura a convertir:\")\n",
        "    print(\"1. Celsius\")\n",
        "    print(\"2. Fahrenheit\")\n",
        "\n",
        "    opcion = input(\"Ingrese 1 o 2: \")\n",
        "\n",
        "    if opcion == '1':\n",
        "        celsius = float(input(\"Ingrese la temperatura en grados Celsius: \"))\n",
        "        kelvin = celsius_kelvin(c)\n",
        "        print(f\"{celsius} grados Celsius son {kelvin} Kelvin\")\n",
        "    elif opcion == '2':\n",
        "        fahrenheit = float(input(\"Ingrese la temperatura en grados Fahrenheit: \"))\n",
        "        kelvin = fahrenheit_kelvin(f)\n",
        "        print(f\"{fahrenheit} grados Fahrenheit son {kelvin} Kelvin\")\n",
        "    else:\n",
        "        print(\"Opción no válida. Por favor, ingrese 1 o 2.\")\n",
        "\n",
        "if __name__ == \"__main__\":\n",
        "    main()"
      ],
      "metadata": {
        "id": "MCcQHg8vxN3C",
        "outputId": "6afa59ea-faf2-4422-b1d6-1799c1593886",
        "colab": {
          "base_uri": "https://localhost:8080/"
        }
      },
      "execution_count": 15,
      "outputs": [
        {
          "output_type": "stream",
          "name": "stdout",
          "text": [
            "Conversión de temperatura a Kelvin\n",
            "Seleccione la temperatura a convertir:\n",
            "1. Celsius\n",
            "2. Fahrenheit\n",
            "Ingrese 1 o 2: 2\n",
            "Ingrese la temperatura en grados Fahrenheit: 75\n",
            "75.0 grados Fahrenheit son 298.15 Kelvin\n"
          ]
        }
      ]
    }
  ]
}