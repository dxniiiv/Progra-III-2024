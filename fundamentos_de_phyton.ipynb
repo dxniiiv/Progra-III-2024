{
  "nbformat": 4,
  "nbformat_minor": 0,
  "metadata": {
    "colab": {
      "provenance": [],
      "authorship_tag": "ABX9TyPcrhpD8pufrAQE0XgcTs0U",
      "include_colab_link": true
    },
    "kernelspec": {
      "name": "python3",
      "display_name": "Python 3"
    },
    "language_info": {
      "name": "python"
    }
  },
  "cells": [
    {
      "cell_type": "markdown",
      "metadata": {
        "id": "view-in-github",
        "colab_type": "text"
      },
      "source": [
        "<a href=\"https://colab.research.google.com/github/dxniiiv/Progra-III-2024/blob/main/fundamentos_de_phyton.ipynb\" target=\"_parent\"><img src=\"https://colab.research.google.com/assets/colab-badge.svg\" alt=\"Open In Colab\"/></a>"
      ]
    },
    {
      "cell_type": "code",
      "execution_count": null,
      "metadata": {
        "id": "s52sVGCvuehm",
        "colab": {
          "base_uri": "https://localhost:8080/"
        },
        "outputId": "3fdd2587-c530-4ee3-8468-0928680ec57c"
      },
      "outputs": [
        {
          "output_type": "stream",
          "name": "stdout",
          "text": [
            "Hola Mundo\n",
            "Hola  Dani , inicial:  D i\n"
          ]
        }
      ],
      "source": [
        "print(\"Hola Mundo\")\n",
        "nombre = \"Dani\"\n",
        "\n",
        "print(\"Hola \", nombre, \", inicial: \", nombre[0], nombre[3])"
      ]
    },
    {
      "cell_type": "markdown",
      "source": [
        "Ejercicio: crear un programa en phyton que sume dos numeros"
      ],
      "metadata": {
        "id": "Vb1yjrcdw4o_"
      }
    },
    {
      "cell_type": "code",
      "source": [
        "num1 = 5\n",
        "num2 = 9.5\n",
        "resp = num1 + num2\n",
        "print(\"La suma es: \", resp)"
      ],
      "metadata": {
        "id": "lsr1ffD_xFeQ",
        "outputId": "1a2dcab1-cac3-44a1-baed-3165bc54d012",
        "colab": {
          "base_uri": "https://localhost:8080/"
        }
      },
      "execution_count": null,
      "outputs": [
        {
          "output_type": "stream",
          "name": "stdout",
          "text": [
            "La suma es:  14.5\n"
          ]
        }
      ]
    },
    {
      "cell_type": "markdown",
      "source": [
        "Ejercicio, crear un programa en phyton que sume dos numeros introducidos por el usuario"
      ],
      "metadata": {
        "id": "_yfeJKgh3it3"
      }
    },
    {
      "cell_type": "code",
      "source": [
        "print(\"Num 1\")\n",
        "num1 = int(input())\n",
        "\n",
        "print(\"Num 2\")\n",
        "num2 = float(input())\n",
        "\n",
        "resp = num1 + num2\n",
        "print(\"La suma es: \", resp)"
      ],
      "metadata": {
        "id": "R3dzCu9J3yZf",
        "outputId": "49431e65-e0a4-4bc5-c136-ed017a206922",
        "colab": {
          "base_uri": "https://localhost:8080/"
        }
      },
      "execution_count": null,
      "outputs": [
        {
          "output_type": "stream",
          "name": "stdout",
          "text": [
            "Num 1\n",
            "5\n",
            "Num 2\n",
            "9\n",
            "La suma es:  14.0\n"
          ]
        }
      ]
    },
    {
      "cell_type": "code",
      "source": [
        "#Tipos de datos\n",
        "num1 = 5 #entero\n",
        "num2 = 5.9 #decimal\n",
        "nombre = \"Daniel Vargas\" #cadenas\n",
        "print(nombre, nombre[0:4], nombre[:4], nombre[-1], nombre[5:len(nombre)])\n",
        "\n",
        "estado = True\n",
        "print(estado)\n",
        "\n",
        "print(type(nombre), type(num1), type(num2), type(estado) )"
      ],
      "metadata": {
        "id": "jzBDryFZ4d3i",
        "outputId": "2a502ccc-6fe6-4648-c01f-8c56c8fb9811",
        "colab": {
          "base_uri": "https://localhost:8080/"
        }
      },
      "execution_count": null,
      "outputs": [
        {
          "output_type": "stream",
          "name": "stdout",
          "text": [
            "Daniel Vargas Dani Dani s l Vargas\n",
            "True\n",
            "<class 'str'> <class 'int'> <class 'float'> <class 'bool'>\n"
          ]
        }
      ]
    },
    {
      "cell_type": "markdown",
      "source": [
        "Ejercicio, cree un programa en phyton que lea un numero y determine si es par o impar"
      ],
      "metadata": {
        "id": "RJkzY7Xa5cMl"
      }
    },
    {
      "cell_type": "code",
      "source": [
        "num = int(input(\"Ingrese un numero:\"))\n",
        "if num % 2 == 0:\n",
        "  print(\"El numero es par\", num)\n",
        "else:\n",
        "    print(\"El numero es impar\")"
      ],
      "metadata": {
        "id": "ZXq3mYNN5lqm",
        "outputId": "360acbf8-d801-4968-d6bc-d77112102d8d",
        "colab": {
          "base_uri": "https://localhost:8080/"
        }
      },
      "execution_count": null,
      "outputs": [
        {
          "output_type": "stream",
          "name": "stdout",
          "text": [
            "Ingrese un numero:9\n",
            "El numero es impar\n"
          ]
        }
      ]
    },
    {
      "cell_type": "markdown",
      "source": [
        "Ejercicio: Uso de las funciones de usuario, con la suma de dos numeros"
      ],
      "metadata": {
        "id": "Ac8IXG1mrssr"
      }
    },
    {
      "cell_type": "code",
      "source": [
        "def suma (num1, num2):\n",
        "  return num1 + num2"
      ],
      "metadata": {
        "id": "sQ_QPk0_rzTm"
      },
      "execution_count": null,
      "outputs": []
    },
    {
      "cell_type": "code",
      "source": [
        "num1 = float(input(\"Num 1:  \"))\n",
        "num2 = float(input(\"Num 2:  \"))\n",
        "\n",
        "resp = suma(num1, num2)\n",
        "print(\"La suma es: \", resp)"
      ],
      "metadata": {
        "id": "wciHbjy1r-Sb",
        "outputId": "1ef37c29-fe77-4c4f-d1d2-e994ce11f68e",
        "colab": {
          "base_uri": "https://localhost:8080/"
        }
      },
      "execution_count": null,
      "outputs": [
        {
          "output_type": "stream",
          "name": "stdout",
          "text": [
            "Num 1:  8\n",
            "Num 2:  9\n",
            "La suma es:  17.0\n"
          ]
        }
      ]
    },
    {
      "cell_type": "markdown",
      "source": [
        "Ejercicio: Coonvertir grados celsius a farenheit, usando funciones de usuario."
      ],
      "metadata": {
        "id": "QgZWt7aZuAAG"
      }
    },
    {
      "cell_type": "code",
      "source": [
        "def convertir_cf(c):\n",
        "  return c*1.8 + 32"
      ],
      "metadata": {
        "id": "6Xho5CESuClt"
      },
      "execution_count": null,
      "outputs": []
    },
    {
      "cell_type": "code",
      "source": [
        "c = float(input(\"Celsius: \"))\n",
        "print(\"F: \", convertir_cf(c))"
      ],
      "metadata": {
        "id": "zCyDJiE2uGO2",
        "outputId": "74881289-e53d-4d1c-f651-f5d9171da23f",
        "colab": {
          "base_uri": "https://localhost:8080/"
        }
      },
      "execution_count": null,
      "outputs": [
        {
          "output_type": "stream",
          "name": "stdout",
          "text": [
            "Celsius: 35\n",
            "F:  95.0\n"
          ]
        }
      ]
    },
    {
      "cell_type": "markdown",
      "source": [
        "Ejercicio: Determina si un numero es par o impar"
      ],
      "metadata": {
        "id": "uG9k6LanuO5i"
      }
    },
    {
      "cell_type": "code",
      "source": [
        "def parImpar(num):\n",
        "  if(num%2==0):\n",
        "    return \"par\"\n",
        "  return \"impar\""
      ],
      "metadata": {
        "id": "ZPuDjhhkuRAr"
      },
      "execution_count": null,
      "outputs": []
    },
    {
      "cell_type": "code",
      "source": [
        "num = int(input(\"Num: \"))\n",
        "print(\"EL numero \", num, \" es: \", parImpar(num))"
      ],
      "metadata": {
        "id": "MfL3pksWuUTv",
        "outputId": "fbd7d02d-ad73-4f91-8505-cb8f587c4711",
        "colab": {
          "base_uri": "https://localhost:8080/"
        }
      },
      "execution_count": null,
      "outputs": [
        {
          "output_type": "stream",
          "name": "stdout",
          "text": [
            "Num: 5\n",
            "EL numero  5  es:  impar\n"
          ]
        }
      ]
    },
    {
      "cell_type": "markdown",
      "source": [
        "Ejercicio: Calcular el sueldo de un trabajador."
      ],
      "metadata": {
        "id": "wm4b4Jxuugnz"
      }
    },
    {
      "cell_type": "code",
      "source": [
        "def sueldo(numHrs, valorXHrs):\n",
        "  sueldo = numHrs * valorXHrs * 30 # 10*1.5*30 = 450\n",
        "  if(numHrs>8):\n",
        "    sueldo = sueldo + (numHrs-8) * valorXHrs * 30 # 2*1.5*30 = 90\n",
        "  return sueldo"
      ],
      "metadata": {
        "id": "gfWGvSdWujuZ"
      },
      "execution_count": null,
      "outputs": []
    },
    {
      "cell_type": "code",
      "source": [
        "numHrs = int(input(\"Horas: \"))\n",
        "valorXHrs = float(input(\"Valor: \"))\n",
        "\n",
        "print(\"Sueldo: \", sueldo(numHrs, valorXHrs))"
      ],
      "metadata": {
        "id": "6yXcQD7aunT2",
        "outputId": "224b81df-151d-48d6-b208-ae18a7eaf2f4",
        "colab": {
          "base_uri": "https://localhost:8080/"
        }
      },
      "execution_count": null,
      "outputs": [
        {
          "output_type": "stream",
          "name": "stdout",
          "text": [
            "Horas: 5\n",
            "Valor: 10\n",
            "Sueldo:  1500.0\n"
          ]
        }
      ]
    },
    {
      "cell_type": "markdown",
      "source": [
        "Tarea ejercicio 1: Convertir grados farenheits a celsius"
      ],
      "metadata": {
        "id": "P1sCkGBOuvtc"
      }
    },
    {
      "cell_type": "code",
      "source": [
        "def convertir_fc(f):\n",
        "  return (f - 32) * 5.0/9.0\n",
        "\n",
        "f = float(input(\"Introduce la temperatura en grados Fahrenheit: \"))\n",
        "print(\"Celsius: \", convertir_fc(f))"
      ],
      "metadata": {
        "id": "eeF9ECwKu62z",
        "outputId": "7111788c-599b-444a-c5de-1979b207c922",
        "colab": {
          "base_uri": "https://localhost:8080/"
        }
      },
      "execution_count": null,
      "outputs": [
        {
          "output_type": "stream",
          "name": "stdout",
          "text": [
            "Introduce la temperatura en grados Fahrenheit: 75\n",
            "Celsius:  23.88888888888889\n"
          ]
        }
      ]
    },
    {
      "cell_type": "markdown",
      "source": [
        "Tarea ejercicio 2: Convertir grados celsius y fahrenheit a kelvin\n"
      ],
      "metadata": {
        "id": "PsLj1Av9xEkp"
      }
    },
    {
      "cell_type": "code",
      "source": [
        "def celsius_kelvin(c):\n",
        "  return c + 273.15\n",
        "\n",
        "def fahrenheit_kelvin(f):\n",
        "  return (f - 32) * 5/9 + 273.15\n",
        "\n",
        "def main():\n",
        "    print(\"Conversión de temperatura a Kelvin\")\n",
        "    print(\"Seleccione la temperatura a convertir:\")\n",
        "    print(\"1. Celsius\")\n",
        "    print(\"2. Fahrenheit\")\n",
        "\n",
        "    opcion = input(\"Ingrese 1 o 2: \")\n",
        "\n",
        "    if opcion == '1':\n",
        "        celsius = float(input(\"Ingrese la temperatura en grados Celsius: \"))\n",
        "        kelvin = celsius_kelvin(c)\n",
        "        print(f\"{celsius} grados Celsius son {kelvin} Kelvin\")\n",
        "    elif opcion == '2':\n",
        "        fahrenheit = float(input(\"Ingrese la temperatura en grados Fahrenheit: \"))\n",
        "        kelvin = fahrenheit_kelvin(f)\n",
        "        print(f\"{fahrenheit} grados Fahrenheit son {kelvin} Kelvin\")\n",
        "    else:\n",
        "        print(\"Opción no válida. Por favor, ingrese 1 o 2.\")\n",
        "\n",
        "if __name__ == \"__main__\":\n",
        "    main()"
      ],
      "metadata": {
        "id": "MCcQHg8vxN3C",
        "outputId": "a5b4e13f-3ed2-4874-918b-c1c0f51d094d",
        "colab": {
          "base_uri": "https://localhost:8080/"
        }
      },
      "execution_count": null,
      "outputs": [
        {
          "output_type": "stream",
          "name": "stdout",
          "text": [
            "Conversión de temperatura a Kelvin\n",
            "Seleccione la temperatura a convertir:\n",
            "1. Celsius\n",
            "2. Fahrenheit\n",
            "Ingrese 1 o 2: 1\n",
            "Ingrese la temperatura en grados Celsius: 25\n",
            "25.0 grados Celsius son 308.15 Kelvin\n"
          ]
        }
      ]
    },
    {
      "cell_type": "markdown",
      "source": [
        "Ejercicio: elevar un numero al cuadrado"
      ],
      "metadata": {
        "id": "ceX0glUN51Ul"
      }
    },
    {
      "cell_type": "code",
      "source": [
        "def elevarCuadrado(base=0, exponente=2):\n",
        "  return base**2"
      ],
      "metadata": {
        "id": "j1uwlZnb6ClF"
      },
      "execution_count": null,
      "outputs": []
    },
    {
      "cell_type": "code",
      "source": [
        "num = int(input(\"Num: \"))\n",
        "print(\"Cuadrado: \", elevarCuadrado(num, 3))"
      ],
      "metadata": {
        "id": "2hyMbMYx6NYB",
        "outputId": "9de17bb6-3a25-4d73-92e9-18e01b442c7f",
        "colab": {
          "base_uri": "https://localhost:8080/"
        }
      },
      "execution_count": null,
      "outputs": [
        {
          "output_type": "stream",
          "name": "stdout",
          "text": [
            "Num: 4\n",
            "Cuadrado:  16\n"
          ]
        }
      ]
    },
    {
      "cell_type": "markdown",
      "source": [
        "Usando funciones lambda"
      ],
      "metadata": {
        "id": "-FFqsNoi7_n0"
      }
    },
    {
      "cell_type": "code",
      "source": [
        "elevarCuadradoLambda = lambda base, exponente: base**exponente"
      ],
      "metadata": {
        "id": "tNjUqPdR7-BF"
      },
      "execution_count": null,
      "outputs": []
    },
    {
      "cell_type": "code",
      "source": [
        "valor = int(input(\"Num: \"))\n",
        "print(\"Cuadrado: \", elevarCuadradoLambda(valor, 2))"
      ],
      "metadata": {
        "id": "GZ4mbFTJ81PB",
        "outputId": "e1da3985-9c5b-4057-c614-d9ac710058b0",
        "colab": {
          "base_uri": "https://localhost:8080/"
        }
      },
      "execution_count": null,
      "outputs": [
        {
          "output_type": "stream",
          "name": "stdout",
          "text": [
            "Num: 5\n",
            "Cuadrado:  25\n"
          ]
        }
      ]
    },
    {
      "cell_type": "code",
      "source": [
        "serie = [5,4,3,2,6,7]\n",
        "resp = map(lambda x: x**2, serie)\n",
        "print(list(resp))\n",
        "\n",
        "resp2 = map(elevarCuadrado, serie)\n",
        "print(list(resp2))"
      ],
      "metadata": {
        "id": "gYMUZTqI_XR1",
        "outputId": "57dce762-9fb4-410e-f396-0f536caaa01a",
        "colab": {
          "base_uri": "https://localhost:8080/",
          "height": 193
        }
      },
      "execution_count": null,
      "outputs": [
        {
          "output_type": "stream",
          "name": "stdout",
          "text": [
            "[25, 16, 9, 4, 36, 49]\n"
          ]
        },
        {
          "output_type": "error",
          "ename": "TypeError",
          "evalue": "elevarCuadrado() missing 1 required positional argument: 'exponente'",
          "traceback": [
            "\u001b[0;31m---------------------------------------------------------------------------\u001b[0m",
            "\u001b[0;31mTypeError\u001b[0m                                 Traceback (most recent call last)",
            "\u001b[0;32m<ipython-input-14-890c95da35a5>\u001b[0m in \u001b[0;36m<cell line: 6>\u001b[0;34m()\u001b[0m\n\u001b[1;32m      4\u001b[0m \u001b[0;34m\u001b[0m\u001b[0m\n\u001b[1;32m      5\u001b[0m \u001b[0mresp2\u001b[0m \u001b[0;34m=\u001b[0m \u001b[0mmap\u001b[0m\u001b[0;34m(\u001b[0m\u001b[0melevarCuadrado\u001b[0m\u001b[0;34m,\u001b[0m \u001b[0mserie\u001b[0m\u001b[0;34m)\u001b[0m\u001b[0;34m\u001b[0m\u001b[0;34m\u001b[0m\u001b[0m\n\u001b[0;32m----> 6\u001b[0;31m \u001b[0mprint\u001b[0m\u001b[0;34m(\u001b[0m\u001b[0mlist\u001b[0m\u001b[0;34m(\u001b[0m\u001b[0mresp2\u001b[0m\u001b[0;34m)\u001b[0m\u001b[0;34m)\u001b[0m\u001b[0;34m\u001b[0m\u001b[0;34m\u001b[0m\u001b[0m\n\u001b[0m",
            "\u001b[0;31mTypeError\u001b[0m: elevarCuadrado() missing 1 required positional argument: 'exponente'"
          ]
        }
      ]
    },
    {
      "cell_type": "markdown",
      "source": [
        "Ejercicio: obtener la raiz cuadrada de una serie de numeros fijos"
      ],
      "metadata": {
        "id": "B8JyvkUBCznG"
      }
    },
    {
      "cell_type": "code",
      "source": [
        "import math\n",
        "\n",
        "numeros = [4, 16, 25, 36, 49, 64, 81, 100]\n",
        "\n",
        "raiz_cuadrada = [math.sqrt(numero) for numero in numeros]\n",
        "for numero, raiz in zip(numeros, raiz_cuadrada):\n",
        "  print(f\"la raiz cuadrada de {numero} es {raiz}\")"
      ],
      "metadata": {
        "id": "VUPFipVEC-Lx",
        "outputId": "5c1036b2-9517-47db-89a8-2190e88bc655",
        "colab": {
          "base_uri": "https://localhost:8080/"
        }
      },
      "execution_count": null,
      "outputs": [
        {
          "output_type": "stream",
          "name": "stdout",
          "text": [
            "la raiz cuadrada de 4 es 2.0\n",
            "la raiz cuadrada de 16 es 4.0\n",
            "la raiz cuadrada de 25 es 5.0\n",
            "la raiz cuadrada de 36 es 6.0\n",
            "la raiz cuadrada de 49 es 7.0\n",
            "la raiz cuadrada de 64 es 8.0\n",
            "la raiz cuadrada de 81 es 9.0\n",
            "la raiz cuadrada de 100 es 10.0\n"
          ]
        }
      ]
    },
    {
      "cell_type": "markdown",
      "source": [
        "Ejercicio con funciones preconstruidas en phyton:\n",
        "\n",
        "- MAP"
      ],
      "metadata": {
        "id": "ovWo_Xytbu-c"
      }
    },
    {
      "cell_type": "code",
      "source": [
        "numeros = [1,2,3,4,5,6,7,8,9]\n",
        "print(list(map(lambda n: n*2, numeros)))"
      ],
      "metadata": {
        "id": "dRJYYjNDcB_W",
        "outputId": "39ae5ef3-9e6b-47e1-b802-d1051eff3c87",
        "colab": {
          "base_uri": "https://localhost:8080/"
        }
      },
      "execution_count": null,
      "outputs": [
        {
          "output_type": "stream",
          "name": "stdout",
          "text": [
            "[2, 4, 6, 8, 10, 12, 14, 16, 18]\n"
          ]
        }
      ]
    },
    {
      "cell_type": "code",
      "source": [
        "numeros = [1,2,3,4,5,6,7,8,9,10]\n",
        "ntabla = int(input(\"Tabla \"))\n",
        "print(list(map(lambda n: n*ntabla, numeros))) #tabla de multiplicar"
      ],
      "metadata": {
        "id": "ZVMOFQAGci5A",
        "outputId": "5b7668cf-f86b-471d-c397-db27eeb70a5d",
        "colab": {
          "base_uri": "https://localhost:8080/"
        }
      },
      "execution_count": null,
      "outputs": [
        {
          "output_type": "stream",
          "name": "stdout",
          "text": [
            "Tabla 4\n",
            "[4, 8, 12, 16, 20, 24, 28, 32, 36, 40]\n"
          ]
        }
      ]
    },
    {
      "cell_type": "markdown",
      "source": [
        "- FILTER\n"
      ],
      "metadata": {
        "id": "2wz-v1UjdFCk"
      }
    },
    {
      "cell_type": "code",
      "source": [
        "numeros = [1,2,3,4,5,6,7,8,9,10]\n",
        "print(\"Pares: \", list(filter(lambda n: n%2==0, numeros))) #obtener solo numeros pares\n",
        "print(\"Impares: \", list(filter(lambda n: n%2!=0, numeros))) #obtener solo numeros impares"
      ],
      "metadata": {
        "id": "j44WJwCmdHQs",
        "outputId": "a98ab223-7aa1-4b45-d687-b7ab32078820",
        "colab": {
          "base_uri": "https://localhost:8080/"
        }
      },
      "execution_count": null,
      "outputs": [
        {
          "output_type": "stream",
          "name": "stdout",
          "text": [
            "Pares:  [2, 4, 6, 8, 10]\n",
            "Impares:  [1, 3, 5, 7, 9]\n"
          ]
        }
      ]
    },
    {
      "cell_type": "code",
      "source": [
        "notas = [8,9,10,7,6,9,10,2,3,1,8,9]\n",
        "print(\"Aprobados: \", list(filter(lambda n: n>=6, notas)))\n",
        "print(\"Reprobados: \", list(filter(lambda n: n<6, notas)))"
      ],
      "metadata": {
        "id": "Pz71nMordtlo",
        "outputId": "d57ffefe-e1c1-43ec-c6a8-703889dc8494",
        "colab": {
          "base_uri": "https://localhost:8080/"
        }
      },
      "execution_count": null,
      "outputs": [
        {
          "output_type": "stream",
          "name": "stdout",
          "text": [
            "Aprobados:  [8, 9, 10, 7, 6, 9, 10, 8, 9]\n",
            "Reprobados:  [2, 3, 1]\n"
          ]
        }
      ]
    },
    {
      "cell_type": "markdown",
      "source": [
        "- REDUCE"
      ],
      "metadata": {
        "id": "FxldnoGCeb2Z"
      }
    },
    {
      "cell_type": "code",
      "source": [
        "from functools import reduce\n",
        "numeros = [7,8,9,10]\n",
        "print(\"Suma: \", reduce(lambda n, acum: n+acum, numeros))"
      ],
      "metadata": {
        "id": "lN4kdi_RefGF",
        "outputId": "8b10868a-3f54-4c08-fe68-320b0e19f468",
        "colab": {
          "base_uri": "https://localhost:8080/"
        }
      },
      "execution_count": null,
      "outputs": [
        {
          "output_type": "stream",
          "name": "stdout",
          "text": [
            "Suma:  34\n"
          ]
        }
      ]
    },
    {
      "cell_type": "code",
      "source": [
        "numeros = [7,8,9,10,1,5]\n",
        "print(\"Numero Mayor: \", reduce(lambda n, mayor: n if n>mayor else mayor, numeros))\n",
        "print(\"Numero Menor: \", reduce(lambda n, menor: n if n<menor else menor, numeros))"
      ],
      "metadata": {
        "id": "NMwxk5TvfFfQ",
        "outputId": "f04576bf-81bf-4c2d-cbad-f2a6e286e818",
        "colab": {
          "base_uri": "https://localhost:8080/"
        }
      },
      "execution_count": null,
      "outputs": [
        {
          "output_type": "stream",
          "name": "stdout",
          "text": [
            "Numero Mayor:  10\n",
            "Numero Menor:  1\n"
          ]
        }
      ]
    },
    {
      "cell_type": "markdown",
      "source": [
        "TUPLAS"
      ],
      "metadata": {
        "id": "ArmTufKQgvEF"
      }
    },
    {
      "cell_type": "code",
      "source": [
        "numeros = (5,8,7,9,5,4,7)\n",
        "print(\"Tupla: \", numeros, \"Primero: \", numeros[0], \"Ultimo: \", numeros[-1],\n",
        "\"Rango: 2-6\", numeros[2:6])"
      ],
      "metadata": {
        "id": "HGKfbfUYgwhQ",
        "outputId": "24df2c7a-9e92-4e3d-bb3b-ef9e2dd86f40",
        "colab": {
          "base_uri": "https://localhost:8080/"
        }
      },
      "execution_count": null,
      "outputs": [
        {
          "output_type": "stream",
          "name": "stdout",
          "text": [
            "Tupla:  (5, 8, 7, 9, 5, 4, 7) Primero:  5 Ultimo:  7 Rango: 2-6 (7, 9, 5, 4)\n"
          ]
        }
      ]
    },
    {
      "cell_type": "code",
      "source": [
        "semana = (\"domingo\", \"lunes\", \"martes\", \"miercoles\", \"jueves\", \"viernes\", \"sabado\")\n",
        "print(\"Primer dia: \", semana[0], \"; Cuantas veces se repite domingo: \", semana.count(\"domingo\"), \"Dias de la semana: \",len(semana))"
      ],
      "metadata": {
        "id": "6ouXiqr_hrJr",
        "outputId": "5cb15eea-fbb3-49e3-c7d6-c60da4c0cfff",
        "colab": {
          "base_uri": "https://localhost:8080/"
        }
      },
      "execution_count": null,
      "outputs": [
        {
          "output_type": "stream",
          "name": "stdout",
          "text": [
            "Primer dia:  domingo ; Cuantas veces se repite domingo:  1 Dias de la semana:  7\n"
          ]
        }
      ]
    },
    {
      "cell_type": "code",
      "source": [
        "import datetime\n",
        "hoy = datetime.date.today()\n",
        "dia = hoy.day\n",
        "mes = hoy.month\n",
        "año = hoy.year\n",
        "dia_semana =  hoy.isoweekday()\n",
        "\n",
        "semana = (\"domingo\", \"lunes\", \"martes\", \"miercoles\", \"jueves\", \"viernes\", \"sabado\")\n",
        "meses = (\"enero\", \"febrero\", \"marzo\", \"abril\", \"mayo\", \"junio\", \"julio\", \"agosto\", \"septiembre\", \"octubre\", \"noviembre\", \"diciembre\")\n",
        "\n",
        "print(\"Fecha: \", semana[dia_semana], dia, \" de \", meses[mes], \" del \",  año)"
      ],
      "metadata": {
        "id": "ByucT2JpipFK",
        "outputId": "8463b022-dc88-4881-e518-558e2074c0ac",
        "colab": {
          "base_uri": "https://localhost:8080/"
        }
      },
      "execution_count": null,
      "outputs": [
        {
          "output_type": "stream",
          "name": "stdout",
          "text": [
            "Fecha:  sabado 3  de  septiembre  del  2024\n"
          ]
        }
      ]
    },
    {
      "cell_type": "code",
      "source": [
        "tuplas = (\"Luis\", \"Juan\")\n",
        "#tuplas[0] = \"Pedro\" #Las tuplas son inmutables, no se puede cambiar su valor.\n",
        "\n",
        "listas = [\"Luis\", \"Juan\"]\n",
        "listas[0] = \"Pedro\" #Las listas son mutables, se puede cambiar su valor.\n",
        "print(listas)"
      ],
      "metadata": {
        "id": "-ueEMK7WlgKB",
        "outputId": "7a846ffd-cba5-4c4e-84ca-2a868f29ef12",
        "colab": {
          "base_uri": "https://localhost:8080/"
        }
      },
      "execution_count": null,
      "outputs": [
        {
          "output_type": "stream",
          "name": "stdout",
          "text": [
            "['Pedro', 'Juan']\n"
          ]
        }
      ]
    },
    {
      "cell_type": "code",
      "source": [
        "listas = [5,6,7,8,9,\"Luis\", \"Jonathan\", \"Ramon\"]\n",
        "print(listas, listas[-1])"
      ],
      "metadata": {
        "id": "Tzg81lQ7l_rS",
        "outputId": "8d90d22c-f487-4198-845b-0b621e647f4d",
        "colab": {
          "base_uri": "https://localhost:8080/"
        }
      },
      "execution_count": null,
      "outputs": [
        {
          "output_type": "stream",
          "name": "stdout",
          "text": [
            "[5, 6, 7, 8, 9, 'Luis', 'Jonathan', 'Ramon'] Ramon\n"
          ]
        }
      ]
    },
    {
      "cell_type": "code",
      "source": [
        "def obtenerNota(nota, eva):\n",
        "  return eva[1]*0.3 + nota"
      ],
      "metadata": {
        "id": "KkPZaxRjmwp-"
      },
      "execution_count": null,
      "outputs": []
    },
    {
      "cell_type": "code",
      "source": [
        "matriz = [ [\"Lab1\", 8],[\"Lab2\", 9], [\"Parcial\", 10] ]\n",
        "reduce(obtenerNota, matriz, 0)"
      ],
      "metadata": {
        "id": "n3LofZGjmNKE",
        "outputId": "d84b5b28-b4f7-461d-bc0b-439c12fb5404",
        "colab": {
          "base_uri": "https://localhost:8080/"
        }
      },
      "execution_count": null,
      "outputs": [
        {
          "output_type": "execute_result",
          "data": {
            "text/plain": [
              "8.1"
            ]
          },
          "metadata": {},
          "execution_count": 33
        }
      ]
    },
    {
      "cell_type": "markdown",
      "source": [
        "LABORATORIO 2"
      ],
      "metadata": {
        "id": "oAb-V58nbE_G"
      }
    },
    {
      "cell_type": "markdown",
      "source": [
        "- Calcular el valor a pagar según el número de metros consumidos de agua potable\n",
        "(20%)"
      ],
      "metadata": {
        "id": "F25uOP7HuE6B"
      }
    },
    {
      "cell_type": "code",
      "source": [
        "def calcular_valor(metros_consumidos):\n",
        "    if metros_consumidos <= 18:\n",
        "        return 6\n",
        "    elif metros_consumidos <= 28:\n",
        "        exceso_18 = metros_consumidos - 18\n",
        "        return 6 + (exceso_18 * 0.45)\n",
        "    else:\n",
        "        exceso_18 = 10\n",
        "        exceso_28 = metros_consumidos - 28\n",
        "        return 6 + (exceso_18 * 0.45) + (exceso_28 * 0.65)\n",
        "\n",
        "metros_consumidos = float(input(\"Ingrese los metros cúbicos de agua consumidos: \"))\n",
        "valor_a_pagar = calcular_valor(metros_consumidos)\n",
        "\n",
        "print(f\"El valor a pagar por {metros_consumidos} metros cúbicos de agua consumidos es: ${valor_a_pagar:.2f}\")\n"
      ],
      "metadata": {
        "id": "liwdBlR4tq-F",
        "outputId": "7de28b85-aa81-45bc-9e7a-88dc788addfc",
        "colab": {
          "base_uri": "https://localhost:8080/"
        }
      },
      "execution_count": null,
      "outputs": [
        {
          "output_type": "stream",
          "name": "stdout",
          "text": [
            "Ingrese los metros cúbicos de agua consumidos: 29\n",
            "El valor a pagar por 29.0 metros cúbicos de agua consumidos es: $11.15\n"
          ]
        }
      ]
    },
    {
      "cell_type": "markdown",
      "source": [
        "Calcular sobre el sueldo las deducciones por ley ISSS (3%), AFP(6.25%), ISR(Según tabla) e imprima el total deducciones y\n",
        "sueldo neto. (20%)"
      ],
      "metadata": {
        "id": "KENm8_eEu9iE"
      }
    },
    {
      "cell_type": "code",
      "source": [
        "def calcular_isss(sueldo):\n",
        "    return sueldo * 0.03\n",
        "\n",
        "def calcular_afp(sueldo):\n",
        "    return sueldo * 0.0625\n",
        "\n",
        "def calcular_isr(sueldo):\n",
        "    if sueldo <= 2770.82:\n",
        "        return 0\n",
        "    elif sueldo <= 4104.16:\n",
        "        exceso = sueldo - 2770.83\n",
        "        return 41.70 + (exceso * 0.10)\n",
        "    elif sueldo <= 6666.67:\n",
        "        exceso = sueldo - 4104.17\n",
        "        return 228.57 + (exceso * 0.10)\n",
        "    elif sueldo <= 16666.00:\n",
        "        exceso = sueldo - 6666.68\n",
        "        return 761.91 + (exceso * 0.20)\n",
        "    else:\n",
        "        exceso = sueldo - 16666.01\n",
        "        return 1904.69 + (exceso * 0.30)\n",
        "\n",
        "def calcular_deducciones_y_sueldo_neto(sueldo):\n",
        "    isss = calcular_isss(sueldo)\n",
        "    afp = calcular_afp(sueldo)\n",
        "    isr = calcular_isr(sueldo)\n",
        "    total_deducciones = isss + afp + isr\n",
        "    sueldo_neto = sueldo - total_deducciones\n",
        "    return isss, afp, isr, total_deducciones, sueldo_neto\n",
        "\n",
        "sueldo = float(input(\"Ingrese el sueldo: \"))\n",
        "isss, afp, isr, total_deducciones, sueldo_neto = calcular_deducciones_y_sueldo_neto(sueldo)\n",
        "\n",
        "print(f\"ISSS: ${isss:.2f}\")\n",
        "print(f\"AFP: ${afp:.2f}\")\n",
        "print(f\"ISR: ${isr:.2f}\")\n",
        "print(f\"Total deducciones: ${total_deducciones:.2f}\")\n",
        "print(f\"Sueldo neto: ${sueldo_neto:.2f}\")"
      ],
      "metadata": {
        "id": "9I9WsZKJu7yX",
        "outputId": "cff6e27b-933a-4a15-d73b-c1ba0a9181cf",
        "colab": {
          "base_uri": "https://localhost:8080/"
        }
      },
      "execution_count": null,
      "outputs": [
        {
          "output_type": "stream",
          "name": "stdout",
          "text": [
            "Ingrese el sueldo: 7000\n",
            "ISSS: $210.00\n",
            "AFP: $437.50\n",
            "ISR: $828.57\n",
            "Total deducciones: $1476.07\n",
            "Sueldo neto: $5523.93\n"
          ]
        }
      ]
    },
    {
      "cell_type": "markdown",
      "source": [
        "Desarrolle la tabla de meses acumulados a n meses. Si puede encontrar la fórmula matemática para evitar ciclos. (10%)"
      ],
      "metadata": {
        "id": "6XZUBm5Vxnou"
      }
    },
    {
      "cell_type": "code",
      "source": [
        "def calcular_acumulacion(meses):\n",
        "    acumulaciones = []\n",
        "    for mes in range(1, meses + 1):\n",
        "        acumulacion = mes * (mes + 1) // 2\n",
        "        acumulaciones.append(acumulacion)\n",
        "    return acumulaciones\n",
        "\n",
        "n_meses = int(input(\"Ingrese el número de meses: \"))\n",
        "acumulaciones = calcular_acumulacion(n_meses)\n",
        "\n",
        "print(\"Mes\\tAcumulación\")\n",
        "for mes, acumulacion in enumerate(acumulaciones, 1):\n",
        "    print(f\"{mes}\\t{acumulacion}\")\n",
        "\n",
        "acumulaciones_150 = calcular_acumulacion(150)\n",
        "print(f\"\\nLa acumulación en el mes 150 es: {acumulaciones_150[-1]}\")\n"
      ],
      "metadata": {
        "id": "LwHTzZr7xGNn",
        "outputId": "5eb055ad-19fc-4e0b-dc8f-dbfd132a73be",
        "colab": {
          "base_uri": "https://localhost:8080/"
        }
      },
      "execution_count": null,
      "outputs": [
        {
          "output_type": "stream",
          "name": "stdout",
          "text": [
            "Ingrese el número de meses: 4\n",
            "Mes\tAcumulación\n",
            "1\t1\n",
            "2\t3\n",
            "3\t6\n",
            "4\t10\n",
            "\n",
            "La acumulación en el mes 150 es: 11325\n"
          ]
        }
      ]
    },
    {
      "cell_type": "markdown",
      "source": [
        "Conversores: (40%) (10 ítems como mínimo por cada uno)"
      ],
      "metadata": {
        "id": "2HgDaXntwpes"
      }
    },
    {
      "cell_type": "markdown",
      "source": [
        " - Conversor de monedas"
      ],
      "metadata": {
        "id": "WbPSTI9EPzlY"
      }
    },
    {
      "cell_type": "code",
      "source": [
        "tasas_de_cambio = {\n",
        "    \"DOLAR\": 1.0,\n",
        "    \"EURO\": 0.92,\n",
        "    \"LEMPIRA\": 24.53,\n",
        "    \"PESO MEXICANO\": 19.18,\n",
        "    \"PESO COLOMBIANO\": 4052.01,\n",
        "    \"QUETZAL\": 7.68,\n",
        "    \"COLON SALVADOREÑO\": 8.67,\n",
        "    \"BOLIVAR VENEZOLANO\": 36.61,\n",
        "    \"PESO ARGENTINO\": 932.41,\n",
        "    \"COLON COSTARRICENCE\": 518.70\n",
        "}\n",
        "\n",
        "def convertir_moneda(cantidad, de, a):\n",
        "    de = de.upper()\n",
        "    a = a.upper()\n",
        "\n",
        "    if de not in tasas_de_cambio or a not in tasas_de_cambio:\n",
        "        raise ValueError(\"Moneda no soportada.\")\n",
        "\n",
        "    cantidad_en_usd = cantidad / tasas_de_cambio[de]\n",
        "\n",
        "    cantidad_convertida = cantidad_en_usd * tasas_de_cambio[a]\n",
        "\n",
        "    return cantidad_convertida\n",
        "\n",
        "def main():\n",
        "    print(\"Conversor de Monedas\")\n",
        "    print(\"Monedas disponibles: Dolar, Euro, Lempira, Peso Mexicano, Peso Colombiano, Quetzal, Colon Salvadoreño, Bolivar Venezolano, Peso Argentino, Colon Costarricence\")\n",
        "\n",
        "    try:\n",
        "        cantidad = float(input(\"Introduce la cantidad de dinero: \"))\n",
        "        de = input(\"Introduce la moneda de origen: \").upper()\n",
        "        a = input(\"Introduce la moneda de destino: \").upper()\n",
        "\n",
        "        cantidad_convertida = convertir_moneda(cantidad, de, a)\n",
        "        print(f\"{cantidad} {de} es igual a {cantidad_convertida:.2f} {a}\")\n",
        "    except ValueError as e:\n",
        "        print(f\"Error: {e}\")\n",
        "\n",
        "if __name__ == \"__main__\":\n",
        "    main()\n"
      ],
      "metadata": {
        "colab": {
          "base_uri": "https://localhost:8080/"
        },
        "id": "8aOgyrujVLa0",
        "outputId": "920b59a4-95bb-446e-ba8f-8052b0c48bd4"
      },
      "execution_count": null,
      "outputs": [
        {
          "output_type": "stream",
          "name": "stdout",
          "text": [
            "Conversor de Monedas\n",
            "Monedas disponibles: Dolar, Euro, Lempira, Peso Mexicano, Peso Colombiano, Quetzal, Colon Salvadoreño, Bolivar Venezolano, Peso Argentino, Colon Costarricence\n",
            "Introduce la cantidad de dinero: 3000\n",
            "Introduce la moneda de origen: Peso Mexicano\n",
            "Introduce la moneda de destino: Dolar\n",
            "3000.0 PESO MEXICANO es igual a 156.41 DOLAR\n"
          ]
        }
      ]
    },
    {
      "cell_type": "markdown",
      "source": [
        "- Conversor de longitud"
      ],
      "metadata": {
        "id": "DJw1Z2Af3QIe"
      }
    },
    {
      "cell_type": "code",
      "source": [
        "def convertir_longitud(valor, de, a):\n",
        "    conversiones = {\n",
        "        'milimetros': 1,\n",
        "        'centimetros': 10,\n",
        "        'decímetros': 100,\n",
        "        'metros': 1000,\n",
        "        'decametros': 10000,\n",
        "        'hectometros': 100000,\n",
        "        'kilometros': 1000000,\n",
        "        'pulgadas': 25.4,\n",
        "        'pies': 304.8,\n",
        "        'yardas': 914.4,\n",
        "        'millas': 1609344,\n",
        "    }\n",
        "\n",
        "    if de not in conversiones or a not in conversiones:\n",
        "        raise ValueError(\"Unidad no soportada para la conversión.\")\n",
        "\n",
        "    valor_en_mm = valor * conversiones[de]\n",
        "\n",
        "    valor_convertido = valor_en_mm / conversiones[a]\n",
        "\n",
        "    return round(valor_convertido)\n",
        "\n",
        "def main():\n",
        "    print(\"Conversor de longitud\")\n",
        "    print(\"Unidades disponibles: milímetros, centímetros, decímetros, metros, decámetros, hectómetros, kilómetros, pulgadas, pies, yardas, millas\")\n",
        "\n",
        "    valor = float(input(\"Introduce el valor a convertir: \"))\n",
        "    de = input(\"Introduce la unidad de origen: \").strip().lower()\n",
        "    a = input(\"Introduce la unidad de destino: \").strip().lower()\n",
        "\n",
        "    try:\n",
        "        resultado = convertir_longitud(valor, de, a)\n",
        "        print(f\"{valor} {de} son {resultado} {a}\")\n",
        "    except ValueError as e:\n",
        "        print(e)\n",
        "\n",
        "if __name__ == \"__main__\":\n",
        "    main()\n"
      ],
      "metadata": {
        "id": "C2gvjrHk3Vnh",
        "outputId": "0aea5d2e-2dbb-49d9-f716-8aa8d578ba3a",
        "colab": {
          "base_uri": "https://localhost:8080/"
        }
      },
      "execution_count": null,
      "outputs": [
        {
          "output_type": "stream",
          "name": "stdout",
          "text": [
            "Conversor de longitud\n",
            "Unidades disponibles: milímetros, centímetros, decímetros, metros, decámetros, hectómetros, kilómetros, pulgadas, pies, yardas, millas\n",
            "Introduce el valor a convertir: 250\n",
            "Introduce la unidad de origen: kilometros\n",
            "Introduce la unidad de destino: metros\n",
            "250.0 kilometros son 250000 metros\n"
          ]
        }
      ]
    },
    {
      "cell_type": "markdown",
      "source": [
        "- Conversor de masa"
      ],
      "metadata": {
        "id": "UYJHVVlE8Bil"
      }
    },
    {
      "cell_type": "code",
      "source": [
        "def convertir_masa(valor, de, a):\n",
        "  conversiones = {\n",
        "      'microgramos': 1,\n",
        "      'miligramos': 1000,\n",
        "      'gramos': 1000000,\n",
        "      'decagramos': 10000000,\n",
        "      'hectogramos': 100000000,\n",
        "      'toneladas': 1000000000000,\n",
        "      'onzas': 28349523.125,\n",
        "      'libras': 453592370,\n",
        "      'stone': 6350293180,\n",
        "  }\n",
        "\n",
        "  if de not in conversiones or a not in conversiones:\n",
        "    raise ValueError(\"Unidad no soportada para la conversion\")\n",
        "\n",
        "  valor_en_microgramos = valor * conversiones[de]\n",
        "\n",
        "  valor_convertido = valor_en_microgramos / conversiones[a]\n",
        "\n",
        "  return round(valor_convertido)\n",
        "\n",
        "def main():\n",
        "  print(\"Conversor de masa\")\n",
        "  print(\"Unidades disponibles: microgramos, miligramos, gramos, decagramos, hectogramos, toneladas, onzas, libras, stone\")\n",
        "\n",
        "  valor = float(input(\"Introduce el valor a convertir: \"))\n",
        "  de = input(\"Introduce la unidad de origen: \").strip().lower()\n",
        "  a = input(\"Introduce la unidad de destino: \").strip().lower()\n",
        "\n",
        "  try:\n",
        "    resultado = convertir_masa(valor, de, a)\n",
        "    print(f\"{valor} {de} son {resultado} {a}\")\n",
        "  except ValueError as e:\n",
        "    print(e)\n",
        "\n",
        "if __name__ == \"__main__\":\n",
        "  main()"
      ],
      "metadata": {
        "id": "sC29lthl8EJ0",
        "outputId": "4a103514-6d2a-4663-c8b9-c14f2f9ea075",
        "colab": {
          "base_uri": "https://localhost:8080/"
        }
      },
      "execution_count": null,
      "outputs": [
        {
          "output_type": "stream",
          "name": "stdout",
          "text": [
            "Conversor de masa\n",
            "Unidades disponibles: microgramos, miligramos, gramos, decagramos, hectogramos, toneladas, onzas, libras, stone\n",
            "Introduce el valor a convertir: 10\n",
            "Introduce la unidad de origen: gramos\n",
            "Introduce la unidad de destino: miligramos\n",
            "10.0 gramos son 10000 miligramos\n"
          ]
        }
      ]
    },
    {
      "cell_type": "markdown",
      "source": [
        "- Conversor de almacenamiento"
      ],
      "metadata": {
        "id": "BUqyzwxA8z4N"
      }
    },
    {
      "cell_type": "code",
      "source": [
        "def convertir_almacenamiento(valor, de, a):\n",
        "    conversiones = {\n",
        "        'bits': 1,\n",
        "        'bytes': 8,\n",
        "        'kilobits': 1000,\n",
        "        'kilobytes': 8000,\n",
        "        'megabits': 1000000,\n",
        "        'megabytes': 8000000,\n",
        "        'gigabits': 1000000000,\n",
        "        'gigabytes': 8000000000,\n",
        "        'terabits': 1000000000000,\n",
        "        'terabytes': 8000000000000,\n",
        "        'petabits': 1000000000000000,\n",
        "        'petabytes': 8000000000000000,\n",
        "    }\n",
        "\n",
        "    if de not in conversiones or a not in conversiones:\n",
        "        raise ValueError(\"Unidad no soportada para la conversión.\")\n",
        "\n",
        "    valor_en_bits = valor * conversiones[de]\n",
        "\n",
        "    valor_convertido = valor_en_bits / conversiones[a]\n",
        "\n",
        "    return round(valor_convertido)\n",
        "\n",
        "def main():\n",
        "    print(\"Conversor de almacenamiento\")\n",
        "    print(\"Unidades disponibles: bits, bytes, kilobits, kilobytes, megabits, megabytes, gigabits, gigabytes, terabits, terabytes, petabits, petabytes\")\n",
        "\n",
        "    valor = float(input(\"Introduce el valor a convertir: \"))\n",
        "    de = input(\"Introduce la unidad de origen: \").strip().lower()\n",
        "    a = input(\"Introduce la unidad de destino: \").strip().lower()\n",
        "\n",
        "    try:\n",
        "        resultado = convertir_almacenamiento(valor, de, a)\n",
        "        print(f\"{valor} {de} son {resultado} {a}\")\n",
        "    except ValueError as e:\n",
        "        print(e)\n",
        "\n",
        "if __name__ == \"__main__\":\n",
        "    main()\n"
      ],
      "metadata": {
        "id": "1Y4HrynY-OEk",
        "outputId": "b7355370-b708-4ea8-ae8f-166052aa0039",
        "colab": {
          "base_uri": "https://localhost:8080/"
        }
      },
      "execution_count": null,
      "outputs": [
        {
          "output_type": "stream",
          "name": "stdout",
          "text": [
            "Conversor de almacenamiento\n",
            "Unidades disponibles: bits, bytes, kilobits, kilobytes, megabits, megabytes, gigabits, gigabytes, terabits, terabytes, petabits, petabytes\n",
            "Introduce el valor a convertir: 1\n",
            "Introduce la unidad de origen: gigabytes\n",
            "Introduce la unidad de destino: megabytes\n",
            "1.0 gigabytes son 1000 megabytes\n"
          ]
        }
      ]
    },
    {
      "cell_type": "markdown",
      "source": [
        "- Conversor de tiempo"
      ],
      "metadata": {
        "id": "aOBqw0I9iGJd"
      }
    },
    {
      "cell_type": "code",
      "source": [
        "def convertir_tiempo(valor, de, a):\n",
        "    conversiones = {\n",
        "        'segundos': 1,\n",
        "        'minutos': 60,\n",
        "        'horas': 3600,\n",
        "        'dias': 86400,\n",
        "        'semanas': 604800,\n",
        "        'meses': 2628000,\n",
        "        'años': 31536000,\n",
        "        'decadas': 315360000,\n",
        "        'siglos': 3153600000,\n",
        "        'milenios': 31536000000,\n",
        "    }\n",
        "\n",
        "    if de not in conversiones or a not in conversiones:\n",
        "        raise ValueError(\"Unidad no soportada para la conversión.\")\n",
        "\n",
        "    valor_en_segundos = valor * conversiones[de]\n",
        "\n",
        "    valor_convertido = valor_en_segundos / conversiones[a]\n",
        "\n",
        "    return round(valor_convertido)\n",
        "\n",
        "def main():\n",
        "    print(\"Bienvenido al conversor de tiempo\")\n",
        "    print(\"Unidades disponibles: segundos, minutos, horas, días, semanas, meses, años, décadas, siglos, milenios\")\n",
        "\n",
        "    valor = float(input(\"Introduce el valor a convertir: \"))\n",
        "    de = input(\"Introduce la unidad de origen: \").strip().lower()\n",
        "    a = input(\"Introduce la unidad de destino: \").strip().lower()\n",
        "\n",
        "    try:\n",
        "        resultado = convertir_tiempo(valor, de, a)\n",
        "        print(f\"{valor} {de} son {resultado} {a}\")\n",
        "    except ValueError as e:\n",
        "        print(e)\n",
        "\n",
        "if __name__ == \"__main__\":\n",
        "    main()\n"
      ],
      "metadata": {
        "id": "0__8j-kmiIau",
        "outputId": "3fd89ce3-131c-4941-e56a-ce43639929e7",
        "colab": {
          "base_uri": "https://localhost:8080/"
        }
      },
      "execution_count": null,
      "outputs": [
        {
          "output_type": "stream",
          "name": "stdout",
          "text": [
            "Bienvenido al conversor de tiempo\n",
            "Unidades disponibles: segundos, minutos, horas, días, semanas, meses, años, décadas, siglos, milenios\n",
            "Introduce el valor a convertir: 1 \n",
            "Introduce la unidad de origen: decadas\n",
            "Introduce la unidad de destino: años\n",
            "1.0 decadas son 10 años\n"
          ]
        }
      ]
    },
    {
      "cell_type": "markdown",
      "source": [
        "- Conversor de volumen"
      ],
      "metadata": {
        "id": "qAw3W9aamXCm"
      }
    },
    {
      "cell_type": "code",
      "source": [
        "def convertir_volumen(valor, de, a):\n",
        "  conversiones = {\n",
        "      'mililitros': 1,\n",
        "      'centilitros': 10,\n",
        "      'decilitros': 100,\n",
        "      'litros': 1000,\n",
        "      'kilolitros': 1000000,\n",
        "      'onzas liquidas': 29.5735,\n",
        "      'tazas': 240,\n",
        "      'galones': 3785.41,\n",
        "      'pies cubicos': 28316.8,\n",
        "      'cuartos': 946.353,\n",
        "  }\n",
        "\n",
        "  if de not in conversiones or a not in conversiones:\n",
        "    raise ValueError(\"Unidad no soportada para la conversion\")\n",
        "\n",
        "  valor_en_mililitros = valor * conversiones[de]\n",
        "\n",
        "  valor_convertido = valor_en_mililitros / conversiones[a]\n",
        "\n",
        "  return round(valor_convertido)\n",
        "\n",
        "def main():\n",
        "  print(\"Conversor de volumen\")\n",
        "  print(\"Unidades disponibles: mililitros, centilitros, decilitros, litros, kilolitros, onzas liquidas, tazas, galones, pies cubicos, cuartos\")\n",
        "\n",
        "  valor = float(input(\"Introduce el valor a convertir: \"))\n",
        "  de = input(\"Introduce la unidad de origen: \").strip().lower()\n",
        "  a = input(\"Introduce la unidad de destino: \").strip().lower()\n",
        "\n",
        "  try:\n",
        "    resultado = convertir_volumen(valor, de, a)\n",
        "    print(f\"{valor} {de} son {resultado} {a}\")\n",
        "  except ValueError as e:\n",
        "    print(e)\n",
        "\n",
        "if __name__ == \"__main__\":\n",
        "  main()\n"
      ],
      "metadata": {
        "id": "MDYSTWTrmZV5",
        "outputId": "24717b48-e42f-4994-dce9-d6aea0925d10",
        "colab": {
          "base_uri": "https://localhost:8080/"
        }
      },
      "execution_count": null,
      "outputs": [
        {
          "output_type": "stream",
          "name": "stdout",
          "text": [
            "Conversor de volumen\n",
            "Unidades disponibles: mililitros, centilitros, decilitros, litros, kilolitros, onzas liquidas, tazas, galones, pies cubicos, cuartos\n",
            "Introduce el valor a convertir: 250\n",
            "Introduce la unidad de origen: kilolitros\n",
            "Introduce la unidad de destino: litros\n",
            "250.0 kilolitros son 250000 litros\n"
          ]
        }
      ]
    },
    {
      "cell_type": "markdown",
      "source": [
        "- Conversor de area"
      ],
      "metadata": {
        "id": "bcwBAam2obD6"
      }
    },
    {
      "cell_type": "code",
      "source": [
        "def convertir_area(valor, de, a):\n",
        "    conversiones = {\n",
        "        'milimetros cuadrados': 1,\n",
        "        'centimetros cuadrados': 100,\n",
        "        'decimetros cuadrados': 10000,\n",
        "        'metros cuadrados': 1000000,\n",
        "        'hectareas': 10000000000,\n",
        "        'kilometros cuadrados': 1000000000000,\n",
        "        'pulgadas cuadradas': 645.16,\n",
        "        'pies cuadrados': 92903,\n",
        "        'yardas cuadradas': 836127,\n",
        "        'millas cuadradas': 2589988110336,\n",
        "        'manzanas': 7000000000,\n",
        "        'tareas': 6288000000,\n",
        "    }\n",
        "\n",
        "    if de not in conversiones or a not in conversiones:\n",
        "        raise ValueError(\"Unidad no soportada para la conversión.\")\n",
        "\n",
        "    valor_en_mm2 = valor * conversiones[de]\n",
        "\n",
        "    valor_convertido = valor_en_mm2 / conversiones[a]\n",
        "\n",
        "    return (valor_convertido)\n",
        "\n",
        "def main():\n",
        "    print(\"Conversor de área\")\n",
        "    print(\"Unidades disponibles: milímetros cuadrados, centímetros cuadrados, decímetros cuadrados, metros cuadrados, hectáreas, kilómetros cuadrados, pulgadas cuadradas, pies cuadrados, yardas cuadradas, millas cuadradas, manzanas, tareas\")\n",
        "\n",
        "    valor = float(input(\"Introduce el valor a convertir: \"))\n",
        "    de = input(\"Introduce la unidad de origen: \").strip().lower()\n",
        "    a = input(\"Introduce la unidad de destino: \").strip().lower()\n",
        "\n",
        "    try:\n",
        "        resultado = convertir_area(valor, de, a)\n",
        "        print(f\"{valor} {de} son {resultado} {a}\")\n",
        "    except ValueError as e:\n",
        "        print(e)\n",
        "\n",
        "if __name__ == \"__main__\":\n",
        "    main()\n"
      ],
      "metadata": {
        "id": "Bi9WxGOhodN8",
        "outputId": "d5f6731e-7836-4a23-932a-4dfcfd20fc68",
        "colab": {
          "base_uri": "https://localhost:8080/"
        }
      },
      "execution_count": null,
      "outputs": [
        {
          "output_type": "stream",
          "name": "stdout",
          "text": [
            "Conversor de área\n",
            "Unidades disponibles: milímetros cuadrados, centímetros cuadrados, decímetros cuadrados, metros cuadrados, hectáreas, kilómetros cuadrados, pulgadas cuadradas, pies cuadrados, yardas cuadradas, millas cuadradas, manzanas, tareas\n",
            "Introduce el valor a convertir: 100\n",
            "Introduce la unidad de origen: yardas cuadradas\n",
            "Introduce la unidad de destino: hectareas\n",
            "100.0 yardas cuadradas son 0.00836127 hectareas\n"
          ]
        }
      ]
    },
    {
      "cell_type": "markdown",
      "source": [
        "- Conversor propio"
      ],
      "metadata": {
        "id": "2LLO4K-fqDEQ"
      }
    },
    {
      "cell_type": "code",
      "source": [
        "def convertir(valor, de, a):\n",
        "    conversiones = {\n",
        "        'caja': 25,\n",
        "        'unidad': 1/25,\n",
        "        'saco': 50,\n",
        "        'libra': 1/50,\n",
        "        'fardo': 5,\n",
        "        'unidad_fardo': 1/5,\n",
        "    }\n",
        "\n",
        "    if de in ['caja', 'unidad']:\n",
        "        valor_en_unidades = valor * conversiones[de]\n",
        "    elif de in ['saco', 'libra']:\n",
        "        valor_en_unidades = valor * conversiones[de]\n",
        "    elif de in ['fardo', 'unidad_fardo']:\n",
        "        valor_en_unidades = valor * conversiones[de]\n",
        "    else:\n",
        "        raise ValueError(\"Unidad no soportada para la conversión.\")\n",
        "\n",
        "    if a in ['caja', 'unidad']:\n",
        "        valor_convertido = valor_en_unidades * conversiones[a]\n",
        "    elif a in ['saco', 'libra']:\n",
        "        valor_convertido = valor_en_unidades * conversiones[a]\n",
        "    elif a in ['fardo', 'unidad_fardo']:\n",
        "        valor_convertido = valor_en_unidades * conversiones[a]\n",
        "    else:\n",
        "        raise ValueError(\"Unidad no soportada para la conversión.\")\n",
        "\n",
        "    return round(valor_convertido)\n",
        "\n",
        "\n",
        "def main():\n",
        "    print(\"Conversor propio\")\n",
        "    print(\"Unidades disponibles: caja, unidad, saco, libra, fardo, unidad_fardo\")\n",
        "\n",
        "    valor = float(input(\"Introduce el valor a convertir: \"))\n",
        "    de = input(\"Introduce la unidad de origen: \").strip().lower()\n",
        "    a = input(\"Introduce la unidad de destino: \").strip().lower()\n",
        "\n",
        "    try:\n",
        "        resultado = convertir(valor, de, a)\n",
        "        print(f\"{valor} {de} son {resultado} {a}\")\n",
        "    except ValueError as e:\n",
        "        print(e)\n",
        "\n",
        "if __name__ == \"__main__\":\n",
        "    main()\n"
      ],
      "metadata": {
        "id": "IY1zMQVeqGuf",
        "outputId": "d06231f8-9b77-4c86-d53a-63cfd1b9a7ba",
        "colab": {
          "base_uri": "https://localhost:8080/"
        }
      },
      "execution_count": null,
      "outputs": [
        {
          "output_type": "stream",
          "name": "stdout",
          "text": [
            "Conversor propio\n",
            "Unidades disponibles: caja, unidad, saco, libra, fardo, unidad_fardo\n",
            "Introduce el valor a convertir: 3\n",
            "Introduce la unidad de origen: caja\n",
            "Introduce la unidad de destino: unidad\n",
            "3.0 caja son 3 unidad\n"
          ]
        }
      ]
    },
    {
      "cell_type": "markdown",
      "source": [
        "Clase virtual 12 de agosto"
      ],
      "metadata": {
        "id": "KNs0bfRKgGlC"
      }
    },
    {
      "cell_type": "code",
      "source": [
        "serie = [1,2,3,3,4,1,8,9]\n",
        "print(serie.count(1))"
      ],
      "metadata": {
        "id": "2jHVBzbagKh7",
        "outputId": "620984c0-4886-4c12-bd9a-60130e7ad0bf",
        "colab": {
          "base_uri": "https://localhost:8080/"
        }
      },
      "execution_count": 1,
      "outputs": [
        {
          "output_type": "stream",
          "name": "stdout",
          "text": [
            "2\n"
          ]
        }
      ]
    },
    {
      "cell_type": "code",
      "source": [
        "numeros = []\n",
        "for i in range(1,10):\n",
        "  numeros.append(int(input(\"Num: \"+str(i)+\": \")))\n",
        "num = int(input(\"Num a buscar: \"))\n",
        "print(\"Serie: \", numeros, \"El numero \", num, \" se repite \", numeros.count(num))"
      ],
      "metadata": {
        "id": "JBaM40rJgWBo",
        "outputId": "59afcc6f-2b5a-44eb-bf8b-9411e0dc1cc7",
        "colab": {
          "base_uri": "https://localhost:8080/"
        }
      },
      "execution_count": 11,
      "outputs": [
        {
          "output_type": "stream",
          "name": "stdout",
          "text": [
            "Num: 1: 5\n",
            "Num: 2: 6\n",
            "Num: 3: 5\n",
            "Num: 4: 4\n",
            "Num: 5: 3\n",
            "Num: 6: 5\n",
            "Num: 7: 4\n",
            "Num: 8: 5\n",
            "Num: 9: 3\n",
            "Num a buscar: 5\n",
            "Serie:  [5, 6, 5, 4, 3, 5, 4, 5, 3] El numero  5  se repite  4\n"
          ]
        }
      ]
    },
    {
      "cell_type": "code",
      "source": [
        "numeros = [1,5,4,3,1,2]\n",
        "numeros.sort()\n",
        "numeros.reverse()\n",
        "print(numeros)\n"
      ],
      "metadata": {
        "id": "1J0PXBMcj0Gm",
        "outputId": "8a8d4a25-f232-4f76-c66b-a8b690ee3862",
        "colab": {
          "base_uri": "https://localhost:8080/"
        }
      },
      "execution_count": 16,
      "outputs": [
        {
          "output_type": "stream",
          "name": "stdout",
          "text": [
            "[5, 4, 3, 2, 1, 1]\n"
          ]
        }
      ]
    },
    {
      "cell_type": "markdown",
      "source": [
        "Diccionarios - JSON"
      ],
      "metadata": {
        "id": "-KGT1sT7kY6J"
      }
    },
    {
      "cell_type": "code",
      "source": [
        "datos = {\n",
        "    \"codigo\":\"USSS031223\",\n",
        "    \"nombre\":\"Daniel Vargas\",\n",
        "    \"materias\": [\n",
        "        {\"codigo\":\"611\",\"nombre\":\"Programacion III\",\"notas\":{\n",
        "            \"C1\":{\"LAB1\":8, \"LAB2\":9, \"Parcial\": 10},\n",
        "            \"C2\":{\"LAB1\":10, \"LAB2\":9, \"Parcial\": 10},\n",
        "            \"C3\":{\"LAB1\":4, \"LAB2\":5, \"Parcial\": 8}\n",
        "            }\n",
        "         },\n",
        "        {\"codigo\":\"612\",\"nombre\":\"Estadistica Computacional\"}\n",
        "    ]\n",
        "}\n",
        "print(datos[\"nombre\"], datos[\"materias\"][0][\"nombre\"], datos[\"materias\"][0][\"notas\"][\"C1\"])"
      ],
      "metadata": {
        "id": "CYzgRhu7kbcx",
        "outputId": "8f469c9d-b212-452a-c17f-ce6a3a5318b2",
        "colab": {
          "base_uri": "https://localhost:8080/"
        }
      },
      "execution_count": 17,
      "outputs": [
        {
          "output_type": "stream",
          "name": "stdout",
          "text": [
            "Daniel Vargas Programacion III {'LAB1': 8, 'LAB2': 9, 'Parcial': 10}\n"
          ]
        }
      ]
    }
  ]
}