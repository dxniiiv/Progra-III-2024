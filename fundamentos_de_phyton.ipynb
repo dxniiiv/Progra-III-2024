{
  "nbformat": 4,
  "nbformat_minor": 0,
  "metadata": {
    "colab": {
      "provenance": [],
      "authorship_tag": "ABX9TyOd2jk794FKnkaCw0dd0fX0",
      "include_colab_link": true
    },
    "kernelspec": {
      "name": "python3",
      "display_name": "Python 3"
    },
    "language_info": {
      "name": "python"
    }
  },
  "cells": [
    {
      "cell_type": "markdown",
      "metadata": {
        "id": "view-in-github",
        "colab_type": "text"
      },
      "source": [
        "<a href=\"https://colab.research.google.com/github/dxniiiv/Progra-III-2024/blob/main/fundamentos_de_phyton.ipynb\" target=\"_parent\"><img src=\"https://colab.research.google.com/assets/colab-badge.svg\" alt=\"Open In Colab\"/></a>"
      ]
    },
    {
      "cell_type": "code",
      "execution_count": null,
      "metadata": {
        "id": "s52sVGCvuehm",
        "colab": {
          "base_uri": "https://localhost:8080/"
        },
        "outputId": "3fdd2587-c530-4ee3-8468-0928680ec57c"
      },
      "outputs": [
        {
          "output_type": "stream",
          "name": "stdout",
          "text": [
            "Hola Mundo\n",
            "Hola  Dani , inicial:  D i\n"
          ]
        }
      ],
      "source": [
        "print(\"Hola Mundo\")\n",
        "nombre = \"Dani\"\n",
        "\n",
        "print(\"Hola \", nombre, \", inicial: \", nombre[0], nombre[3])"
      ]
    },
    {
      "cell_type": "markdown",
      "source": [
        "Ejercicio: crear un programa en phyton que sume dos numeros"
      ],
      "metadata": {
        "id": "Vb1yjrcdw4o_"
      }
    },
    {
      "cell_type": "code",
      "source": [
        "num1 = 5\n",
        "num2 = 9.5\n",
        "resp = num1 + num2\n",
        "print(\"La suma es: \", resp)"
      ],
      "metadata": {
        "id": "lsr1ffD_xFeQ",
        "outputId": "1a2dcab1-cac3-44a1-baed-3165bc54d012",
        "colab": {
          "base_uri": "https://localhost:8080/"
        }
      },
      "execution_count": null,
      "outputs": [
        {
          "output_type": "stream",
          "name": "stdout",
          "text": [
            "La suma es:  14.5\n"
          ]
        }
      ]
    },
    {
      "cell_type": "markdown",
      "source": [
        "Ejercicio, crear un programa en phyton que sume dos numeros introducidos por el usuario"
      ],
      "metadata": {
        "id": "_yfeJKgh3it3"
      }
    },
    {
      "cell_type": "code",
      "source": [
        "print(\"Num 1\")\n",
        "num1 = int(input())\n",
        "\n",
        "print(\"Num 2\")\n",
        "num2 = float(input())\n",
        "\n",
        "resp = num1 + num2\n",
        "print(\"La suma es: \", resp)"
      ],
      "metadata": {
        "id": "R3dzCu9J3yZf",
        "outputId": "49431e65-e0a4-4bc5-c136-ed017a206922",
        "colab": {
          "base_uri": "https://localhost:8080/"
        }
      },
      "execution_count": null,
      "outputs": [
        {
          "output_type": "stream",
          "name": "stdout",
          "text": [
            "Num 1\n",
            "5\n",
            "Num 2\n",
            "9\n",
            "La suma es:  14.0\n"
          ]
        }
      ]
    },
    {
      "cell_type": "code",
      "source": [
        "#Tipos de datos\n",
        "num1 = 5 #entero\n",
        "num2 = 5.9 #decimal\n",
        "nombre = \"Daniel Vargas\" #cadenas\n",
        "print(nombre, nombre[0:4], nombre[:4], nombre[-1], nombre[5:len(nombre)])\n",
        "\n",
        "estado = True\n",
        "print(estado)\n",
        "\n",
        "print(type(nombre), type(num1), type(num2), type(estado) )"
      ],
      "metadata": {
        "id": "jzBDryFZ4d3i",
        "outputId": "2a502ccc-6fe6-4648-c01f-8c56c8fb9811",
        "colab": {
          "base_uri": "https://localhost:8080/"
        }
      },
      "execution_count": null,
      "outputs": [
        {
          "output_type": "stream",
          "name": "stdout",
          "text": [
            "Daniel Vargas Dani Dani s l Vargas\n",
            "True\n",
            "<class 'str'> <class 'int'> <class 'float'> <class 'bool'>\n"
          ]
        }
      ]
    },
    {
      "cell_type": "markdown",
      "source": [
        "Ejercicio, cree un programa en phyton que lea un numero y determine si es par o impar"
      ],
      "metadata": {
        "id": "RJkzY7Xa5cMl"
      }
    },
    {
      "cell_type": "code",
      "source": [
        "num = int(input(\"Ingrese un numero:\"))\n",
        "if num % 2 == 0:\n",
        "  print(\"El numero es par\", num)\n",
        "else:\n",
        "    print(\"El numero es impar\")"
      ],
      "metadata": {
        "id": "ZXq3mYNN5lqm",
        "outputId": "360acbf8-d801-4968-d6bc-d77112102d8d",
        "colab": {
          "base_uri": "https://localhost:8080/"
        }
      },
      "execution_count": null,
      "outputs": [
        {
          "output_type": "stream",
          "name": "stdout",
          "text": [
            "Ingrese un numero:9\n",
            "El numero es impar\n"
          ]
        }
      ]
    },
    {
      "cell_type": "markdown",
      "source": [
        "Ejercicio: Uso de las funciones de usuario, con la suma de dos numeros"
      ],
      "metadata": {
        "id": "Ac8IXG1mrssr"
      }
    },
    {
      "cell_type": "code",
      "source": [
        "def suma (num1, num2):\n",
        "  return num1 + num2"
      ],
      "metadata": {
        "id": "sQ_QPk0_rzTm"
      },
      "execution_count": null,
      "outputs": []
    },
    {
      "cell_type": "code",
      "source": [
        "num1 = float(input(\"Num 1:  \"))\n",
        "num2 = float(input(\"Num 2:  \"))\n",
        "\n",
        "resp = suma(num1, num2)\n",
        "print(\"La suma es: \", resp)"
      ],
      "metadata": {
        "id": "wciHbjy1r-Sb",
        "outputId": "1ef37c29-fe77-4c4f-d1d2-e994ce11f68e",
        "colab": {
          "base_uri": "https://localhost:8080/"
        }
      },
      "execution_count": null,
      "outputs": [
        {
          "output_type": "stream",
          "name": "stdout",
          "text": [
            "Num 1:  8\n",
            "Num 2:  9\n",
            "La suma es:  17.0\n"
          ]
        }
      ]
    },
    {
      "cell_type": "markdown",
      "source": [
        "Ejercicio: Coonvertir grados celsius a farenheit, usando funciones de usuario."
      ],
      "metadata": {
        "id": "QgZWt7aZuAAG"
      }
    },
    {
      "cell_type": "code",
      "source": [
        "def convertir_cf(c):\n",
        "  return c*1.8 + 32"
      ],
      "metadata": {
        "id": "6Xho5CESuClt"
      },
      "execution_count": null,
      "outputs": []
    },
    {
      "cell_type": "code",
      "source": [
        "c = float(input(\"Celsius: \"))\n",
        "print(\"F: \", convertir_cf(c))"
      ],
      "metadata": {
        "id": "zCyDJiE2uGO2",
        "outputId": "74881289-e53d-4d1c-f651-f5d9171da23f",
        "colab": {
          "base_uri": "https://localhost:8080/"
        }
      },
      "execution_count": null,
      "outputs": [
        {
          "output_type": "stream",
          "name": "stdout",
          "text": [
            "Celsius: 35\n",
            "F:  95.0\n"
          ]
        }
      ]
    },
    {
      "cell_type": "markdown",
      "source": [
        "Ejercicio: Determina si un numero es par o impar"
      ],
      "metadata": {
        "id": "uG9k6LanuO5i"
      }
    },
    {
      "cell_type": "code",
      "source": [
        "def parImpar(num):\n",
        "  if(num%2==0):\n",
        "    return \"par\"\n",
        "  return \"impar\""
      ],
      "metadata": {
        "id": "ZPuDjhhkuRAr"
      },
      "execution_count": null,
      "outputs": []
    },
    {
      "cell_type": "code",
      "source": [
        "num = int(input(\"Num: \"))\n",
        "print(\"EL numero \", num, \" es: \", parImpar(num))"
      ],
      "metadata": {
        "id": "MfL3pksWuUTv",
        "outputId": "fbd7d02d-ad73-4f91-8505-cb8f587c4711",
        "colab": {
          "base_uri": "https://localhost:8080/"
        }
      },
      "execution_count": null,
      "outputs": [
        {
          "output_type": "stream",
          "name": "stdout",
          "text": [
            "Num: 5\n",
            "EL numero  5  es:  impar\n"
          ]
        }
      ]
    },
    {
      "cell_type": "markdown",
      "source": [
        "Ejercicio: Calcular el sueldo de un trabajador."
      ],
      "metadata": {
        "id": "wm4b4Jxuugnz"
      }
    },
    {
      "cell_type": "code",
      "source": [
        "def sueldo(numHrs, valorXHrs):\n",
        "  sueldo = numHrs * valorXHrs * 30 # 10*1.5*30 = 450\n",
        "  if(numHrs>8):\n",
        "    sueldo = sueldo + (numHrs-8) * valorXHrs * 30 # 2*1.5*30 = 90\n",
        "  return sueldo"
      ],
      "metadata": {
        "id": "gfWGvSdWujuZ"
      },
      "execution_count": null,
      "outputs": []
    },
    {
      "cell_type": "code",
      "source": [
        "numHrs = int(input(\"Horas: \"))\n",
        "valorXHrs = float(input(\"Valor: \"))\n",
        "\n",
        "print(\"Sueldo: \", sueldo(numHrs, valorXHrs))"
      ],
      "metadata": {
        "id": "6yXcQD7aunT2",
        "outputId": "224b81df-151d-48d6-b208-ae18a7eaf2f4",
        "colab": {
          "base_uri": "https://localhost:8080/"
        }
      },
      "execution_count": null,
      "outputs": [
        {
          "output_type": "stream",
          "name": "stdout",
          "text": [
            "Horas: 5\n",
            "Valor: 10\n",
            "Sueldo:  1500.0\n"
          ]
        }
      ]
    },
    {
      "cell_type": "markdown",
      "source": [
        "Tarea ejercicio 1: Convertir grados farenheits a celsius"
      ],
      "metadata": {
        "id": "P1sCkGBOuvtc"
      }
    },
    {
      "cell_type": "code",
      "source": [
        "def convertir_fc(f):\n",
        "  return (f - 32) * 5.0/9.0\n",
        "\n",
        "f = float(input(\"Introduce la temperatura en grados Fahrenheit: \"))\n",
        "print(\"Celsius: \", convertir_fc(f))"
      ],
      "metadata": {
        "id": "eeF9ECwKu62z",
        "outputId": "7111788c-599b-444a-c5de-1979b207c922",
        "colab": {
          "base_uri": "https://localhost:8080/"
        }
      },
      "execution_count": null,
      "outputs": [
        {
          "output_type": "stream",
          "name": "stdout",
          "text": [
            "Introduce la temperatura en grados Fahrenheit: 75\n",
            "Celsius:  23.88888888888889\n"
          ]
        }
      ]
    },
    {
      "cell_type": "markdown",
      "source": [
        "Tarea ejercicio 2: Convertir grados celsius y fahrenheit a kelvin\n"
      ],
      "metadata": {
        "id": "PsLj1Av9xEkp"
      }
    },
    {
      "cell_type": "code",
      "source": [
        "def celsius_kelvin(c):\n",
        "  return c + 273.15\n",
        "\n",
        "def fahrenheit_kelvin(f):\n",
        "  return (f - 32) * 5/9 + 273.15\n",
        "\n",
        "def main():\n",
        "    print(\"Conversión de temperatura a Kelvin\")\n",
        "    print(\"Seleccione la temperatura a convertir:\")\n",
        "    print(\"1. Celsius\")\n",
        "    print(\"2. Fahrenheit\")\n",
        "\n",
        "    opcion = input(\"Ingrese 1 o 2: \")\n",
        "\n",
        "    if opcion == '1':\n",
        "        celsius = float(input(\"Ingrese la temperatura en grados Celsius: \"))\n",
        "        kelvin = celsius_kelvin(c)\n",
        "        print(f\"{celsius} grados Celsius son {kelvin} Kelvin\")\n",
        "    elif opcion == '2':\n",
        "        fahrenheit = float(input(\"Ingrese la temperatura en grados Fahrenheit: \"))\n",
        "        kelvin = fahrenheit_kelvin(f)\n",
        "        print(f\"{fahrenheit} grados Fahrenheit son {kelvin} Kelvin\")\n",
        "    else:\n",
        "        print(\"Opción no válida. Por favor, ingrese 1 o 2.\")\n",
        "\n",
        "if __name__ == \"__main__\":\n",
        "    main()"
      ],
      "metadata": {
        "id": "MCcQHg8vxN3C",
        "outputId": "a5b4e13f-3ed2-4874-918b-c1c0f51d094d",
        "colab": {
          "base_uri": "https://localhost:8080/"
        }
      },
      "execution_count": null,
      "outputs": [
        {
          "output_type": "stream",
          "name": "stdout",
          "text": [
            "Conversión de temperatura a Kelvin\n",
            "Seleccione la temperatura a convertir:\n",
            "1. Celsius\n",
            "2. Fahrenheit\n",
            "Ingrese 1 o 2: 1\n",
            "Ingrese la temperatura en grados Celsius: 25\n",
            "25.0 grados Celsius son 308.15 Kelvin\n"
          ]
        }
      ]
    },
    {
      "cell_type": "markdown",
      "source": [
        "Ejercicio: elevar un numero al cuadrado"
      ],
      "metadata": {
        "id": "ceX0glUN51Ul"
      }
    },
    {
      "cell_type": "code",
      "source": [
        "def elevarCuadrado(base=0, exponente=2):\n",
        "  return base**2"
      ],
      "metadata": {
        "id": "j1uwlZnb6ClF"
      },
      "execution_count": null,
      "outputs": []
    },
    {
      "cell_type": "code",
      "source": [
        "num = int(input(\"Num: \"))\n",
        "print(\"Cuadrado: \", elevarCuadrado(num, 3))"
      ],
      "metadata": {
        "id": "2hyMbMYx6NYB",
        "outputId": "9de17bb6-3a25-4d73-92e9-18e01b442c7f",
        "colab": {
          "base_uri": "https://localhost:8080/"
        }
      },
      "execution_count": null,
      "outputs": [
        {
          "output_type": "stream",
          "name": "stdout",
          "text": [
            "Num: 4\n",
            "Cuadrado:  16\n"
          ]
        }
      ]
    },
    {
      "cell_type": "markdown",
      "source": [
        "Usando funciones lambda"
      ],
      "metadata": {
        "id": "-FFqsNoi7_n0"
      }
    },
    {
      "cell_type": "code",
      "source": [
        "elevarCuadradoLambda = lambda base, exponente: base**exponente"
      ],
      "metadata": {
        "id": "tNjUqPdR7-BF"
      },
      "execution_count": null,
      "outputs": []
    },
    {
      "cell_type": "code",
      "source": [
        "valor = int(input(\"Num: \"))\n",
        "print(\"Cuadrado: \", elevarCuadradoLambda(valor, 2))"
      ],
      "metadata": {
        "id": "GZ4mbFTJ81PB",
        "outputId": "e1da3985-9c5b-4057-c614-d9ac710058b0",
        "colab": {
          "base_uri": "https://localhost:8080/"
        }
      },
      "execution_count": null,
      "outputs": [
        {
          "output_type": "stream",
          "name": "stdout",
          "text": [
            "Num: 5\n",
            "Cuadrado:  25\n"
          ]
        }
      ]
    },
    {
      "cell_type": "code",
      "source": [
        "serie = [5,4,3,2,6,7]\n",
        "resp = map(lambda x: x**2, serie)\n",
        "print(list(resp))\n",
        "\n",
        "resp2 = map(elevarCuadrado, serie)\n",
        "print(list(resp2))"
      ],
      "metadata": {
        "id": "gYMUZTqI_XR1",
        "outputId": "57dce762-9fb4-410e-f396-0f536caaa01a",
        "colab": {
          "base_uri": "https://localhost:8080/",
          "height": 193
        }
      },
      "execution_count": null,
      "outputs": [
        {
          "output_type": "stream",
          "name": "stdout",
          "text": [
            "[25, 16, 9, 4, 36, 49]\n"
          ]
        },
        {
          "output_type": "error",
          "ename": "TypeError",
          "evalue": "elevarCuadrado() missing 1 required positional argument: 'exponente'",
          "traceback": [
            "\u001b[0;31m---------------------------------------------------------------------------\u001b[0m",
            "\u001b[0;31mTypeError\u001b[0m                                 Traceback (most recent call last)",
            "\u001b[0;32m<ipython-input-14-890c95da35a5>\u001b[0m in \u001b[0;36m<cell line: 6>\u001b[0;34m()\u001b[0m\n\u001b[1;32m      4\u001b[0m \u001b[0;34m\u001b[0m\u001b[0m\n\u001b[1;32m      5\u001b[0m \u001b[0mresp2\u001b[0m \u001b[0;34m=\u001b[0m \u001b[0mmap\u001b[0m\u001b[0;34m(\u001b[0m\u001b[0melevarCuadrado\u001b[0m\u001b[0;34m,\u001b[0m \u001b[0mserie\u001b[0m\u001b[0;34m)\u001b[0m\u001b[0;34m\u001b[0m\u001b[0;34m\u001b[0m\u001b[0m\n\u001b[0;32m----> 6\u001b[0;31m \u001b[0mprint\u001b[0m\u001b[0;34m(\u001b[0m\u001b[0mlist\u001b[0m\u001b[0;34m(\u001b[0m\u001b[0mresp2\u001b[0m\u001b[0;34m)\u001b[0m\u001b[0;34m)\u001b[0m\u001b[0;34m\u001b[0m\u001b[0;34m\u001b[0m\u001b[0m\n\u001b[0m",
            "\u001b[0;31mTypeError\u001b[0m: elevarCuadrado() missing 1 required positional argument: 'exponente'"
          ]
        }
      ]
    },
    {
      "cell_type": "markdown",
      "source": [
        "Ejercicio: obtener la raiz cuadrada de una serie de numeros fijos"
      ],
      "metadata": {
        "id": "B8JyvkUBCznG"
      }
    },
    {
      "cell_type": "code",
      "source": [
        "import math\n",
        "\n",
        "numeros = [4, 16, 25, 36, 49, 64, 81, 100]\n",
        "\n",
        "raiz_cuadrada = [math.sqrt(numero) for numero in numeros]\n",
        "for numero, raiz in zip(numeros, raiz_cuadrada):\n",
        "  print(f\"la raiz cuadrada de {numero} es {raiz}\")"
      ],
      "metadata": {
        "id": "VUPFipVEC-Lx",
        "outputId": "5c1036b2-9517-47db-89a8-2190e88bc655",
        "colab": {
          "base_uri": "https://localhost:8080/"
        }
      },
      "execution_count": null,
      "outputs": [
        {
          "output_type": "stream",
          "name": "stdout",
          "text": [
            "la raiz cuadrada de 4 es 2.0\n",
            "la raiz cuadrada de 16 es 4.0\n",
            "la raiz cuadrada de 25 es 5.0\n",
            "la raiz cuadrada de 36 es 6.0\n",
            "la raiz cuadrada de 49 es 7.0\n",
            "la raiz cuadrada de 64 es 8.0\n",
            "la raiz cuadrada de 81 es 9.0\n",
            "la raiz cuadrada de 100 es 10.0\n"
          ]
        }
      ]
    },
    {
      "cell_type": "markdown",
      "source": [
        "Ejercicio con funciones preconstruidas en phyton:\n",
        "\n",
        "- MAP"
      ],
      "metadata": {
        "id": "ovWo_Xytbu-c"
      }
    },
    {
      "cell_type": "code",
      "source": [
        "numeros = [1,2,3,4,5,6,7,8,9]\n",
        "print(list(map(lambda n: n*2, numeros)))"
      ],
      "metadata": {
        "id": "dRJYYjNDcB_W",
        "outputId": "39ae5ef3-9e6b-47e1-b802-d1051eff3c87",
        "colab": {
          "base_uri": "https://localhost:8080/"
        }
      },
      "execution_count": null,
      "outputs": [
        {
          "output_type": "stream",
          "name": "stdout",
          "text": [
            "[2, 4, 6, 8, 10, 12, 14, 16, 18]\n"
          ]
        }
      ]
    },
    {
      "cell_type": "code",
      "source": [
        "numeros = [1,2,3,4,5,6,7,8,9,10]\n",
        "ntabla = int(input(\"Tabla \"))\n",
        "print(list(map(lambda n: n*ntabla, numeros))) #tabla de multiplicar"
      ],
      "metadata": {
        "id": "ZVMOFQAGci5A",
        "outputId": "5b7668cf-f86b-471d-c397-db27eeb70a5d",
        "colab": {
          "base_uri": "https://localhost:8080/"
        }
      },
      "execution_count": null,
      "outputs": [
        {
          "output_type": "stream",
          "name": "stdout",
          "text": [
            "Tabla 4\n",
            "[4, 8, 12, 16, 20, 24, 28, 32, 36, 40]\n"
          ]
        }
      ]
    },
    {
      "cell_type": "markdown",
      "source": [
        "- FILTER\n"
      ],
      "metadata": {
        "id": "2wz-v1UjdFCk"
      }
    },
    {
      "cell_type": "code",
      "source": [
        "numeros = [1,2,3,4,5,6,7,8,9,10]\n",
        "print(\"Pares: \", list(filter(lambda n: n%2==0, numeros))) #obtener solo numeros pares\n",
        "print(\"Impares: \", list(filter(lambda n: n%2!=0, numeros))) #obtener solo numeros impares"
      ],
      "metadata": {
        "id": "j44WJwCmdHQs",
        "outputId": "a98ab223-7aa1-4b45-d687-b7ab32078820",
        "colab": {
          "base_uri": "https://localhost:8080/"
        }
      },
      "execution_count": null,
      "outputs": [
        {
          "output_type": "stream",
          "name": "stdout",
          "text": [
            "Pares:  [2, 4, 6, 8, 10]\n",
            "Impares:  [1, 3, 5, 7, 9]\n"
          ]
        }
      ]
    },
    {
      "cell_type": "code",
      "source": [
        "notas = [8,9,10,7,6,9,10,2,3,1,8,9]\n",
        "print(\"Aprobados: \", list(filter(lambda n: n>=6, notas)))\n",
        "print(\"Reprobados: \", list(filter(lambda n: n<6, notas)))"
      ],
      "metadata": {
        "id": "Pz71nMordtlo",
        "outputId": "d57ffefe-e1c1-43ec-c6a8-703889dc8494",
        "colab": {
          "base_uri": "https://localhost:8080/"
        }
      },
      "execution_count": null,
      "outputs": [
        {
          "output_type": "stream",
          "name": "stdout",
          "text": [
            "Aprobados:  [8, 9, 10, 7, 6, 9, 10, 8, 9]\n",
            "Reprobados:  [2, 3, 1]\n"
          ]
        }
      ]
    },
    {
      "cell_type": "markdown",
      "source": [
        "- REDUCE"
      ],
      "metadata": {
        "id": "FxldnoGCeb2Z"
      }
    },
    {
      "cell_type": "code",
      "source": [
        "from functools import reduce\n",
        "numeros = [7,8,9,10]\n",
        "print(\"Suma: \", reduce(lambda n, acum: n+acum, numeros))"
      ],
      "metadata": {
        "id": "lN4kdi_RefGF",
        "outputId": "8b10868a-3f54-4c08-fe68-320b0e19f468",
        "colab": {
          "base_uri": "https://localhost:8080/"
        }
      },
      "execution_count": null,
      "outputs": [
        {
          "output_type": "stream",
          "name": "stdout",
          "text": [
            "Suma:  34\n"
          ]
        }
      ]
    },
    {
      "cell_type": "code",
      "source": [
        "numeros = [7,8,9,10,1,5]\n",
        "print(\"Numero Mayor: \", reduce(lambda n, mayor: n if n>mayor else mayor, numeros))\n",
        "print(\"Numero Menor: \", reduce(lambda n, menor: n if n<menor else menor, numeros))"
      ],
      "metadata": {
        "id": "NMwxk5TvfFfQ",
        "outputId": "f04576bf-81bf-4c2d-cbad-f2a6e286e818",
        "colab": {
          "base_uri": "https://localhost:8080/"
        }
      },
      "execution_count": null,
      "outputs": [
        {
          "output_type": "stream",
          "name": "stdout",
          "text": [
            "Numero Mayor:  10\n",
            "Numero Menor:  1\n"
          ]
        }
      ]
    },
    {
      "cell_type": "markdown",
      "source": [
        "TUPLAS"
      ],
      "metadata": {
        "id": "ArmTufKQgvEF"
      }
    },
    {
      "cell_type": "code",
      "source": [
        "numeros = (5,8,7,9,5,4,7)\n",
        "print(\"Tupla: \", numeros, \"Primero: \", numeros[0], \"Ultimo: \", numeros[-1],\n",
        "\"Rango: 2-6\", numeros[2:6])"
      ],
      "metadata": {
        "id": "HGKfbfUYgwhQ",
        "outputId": "24df2c7a-9e92-4e3d-bb3b-ef9e2dd86f40",
        "colab": {
          "base_uri": "https://localhost:8080/"
        }
      },
      "execution_count": null,
      "outputs": [
        {
          "output_type": "stream",
          "name": "stdout",
          "text": [
            "Tupla:  (5, 8, 7, 9, 5, 4, 7) Primero:  5 Ultimo:  7 Rango: 2-6 (7, 9, 5, 4)\n"
          ]
        }
      ]
    },
    {
      "cell_type": "code",
      "source": [
        "semana = (\"domingo\", \"lunes\", \"martes\", \"miercoles\", \"jueves\", \"viernes\", \"sabado\")\n",
        "print(\"Primer dia: \", semana[0], \"; Cuantas veces se repite domingo: \", semana.count(\"domingo\"), \"Dias de la semana: \",len(semana))"
      ],
      "metadata": {
        "id": "6ouXiqr_hrJr",
        "outputId": "5cb15eea-fbb3-49e3-c7d6-c60da4c0cfff",
        "colab": {
          "base_uri": "https://localhost:8080/"
        }
      },
      "execution_count": null,
      "outputs": [
        {
          "output_type": "stream",
          "name": "stdout",
          "text": [
            "Primer dia:  domingo ; Cuantas veces se repite domingo:  1 Dias de la semana:  7\n"
          ]
        }
      ]
    },
    {
      "cell_type": "code",
      "source": [
        "import datetime\n",
        "hoy = datetime.date.today()\n",
        "dia = hoy.day\n",
        "mes = hoy.month\n",
        "año = hoy.year\n",
        "dia_semana =  hoy.isoweekday()\n",
        "\n",
        "semana = (\"domingo\", \"lunes\", \"martes\", \"miercoles\", \"jueves\", \"viernes\", \"sabado\")\n",
        "meses = (\"enero\", \"febrero\", \"marzo\", \"abril\", \"mayo\", \"junio\", \"julio\", \"agosto\", \"septiembre\", \"octubre\", \"noviembre\", \"diciembre\")\n",
        "\n",
        "print(\"Fecha: \", semana[dia_semana], dia, \" de \", meses[mes], \" del \",  año)"
      ],
      "metadata": {
        "id": "ByucT2JpipFK",
        "outputId": "8463b022-dc88-4881-e518-558e2074c0ac",
        "colab": {
          "base_uri": "https://localhost:8080/"
        }
      },
      "execution_count": null,
      "outputs": [
        {
          "output_type": "stream",
          "name": "stdout",
          "text": [
            "Fecha:  sabado 3  de  septiembre  del  2024\n"
          ]
        }
      ]
    },
    {
      "cell_type": "code",
      "source": [
        "tuplas = (\"Luis\", \"Juan\")\n",
        "#tuplas[0] = \"Pedro\" #Las tuplas son inmutables, no se puede cambiar su valor.\n",
        "\n",
        "listas = [\"Luis\", \"Juan\"]\n",
        "listas[0] = \"Pedro\" #Las listas son mutables, se puede cambiar su valor.\n",
        "print(listas)"
      ],
      "metadata": {
        "id": "-ueEMK7WlgKB",
        "outputId": "7a846ffd-cba5-4c4e-84ca-2a868f29ef12",
        "colab": {
          "base_uri": "https://localhost:8080/"
        }
      },
      "execution_count": null,
      "outputs": [
        {
          "output_type": "stream",
          "name": "stdout",
          "text": [
            "['Pedro', 'Juan']\n"
          ]
        }
      ]
    },
    {
      "cell_type": "code",
      "source": [
        "listas = [5,6,7,8,9,\"Luis\", \"Jonathan\", \"Ramon\"]\n",
        "print(listas, listas[-1])"
      ],
      "metadata": {
        "id": "Tzg81lQ7l_rS",
        "outputId": "8d90d22c-f487-4198-845b-0b621e647f4d",
        "colab": {
          "base_uri": "https://localhost:8080/"
        }
      },
      "execution_count": null,
      "outputs": [
        {
          "output_type": "stream",
          "name": "stdout",
          "text": [
            "[5, 6, 7, 8, 9, 'Luis', 'Jonathan', 'Ramon'] Ramon\n"
          ]
        }
      ]
    },
    {
      "cell_type": "code",
      "source": [
        "def obtenerNota(nota, eva):\n",
        "  return eva[1]*0.3 + nota"
      ],
      "metadata": {
        "id": "KkPZaxRjmwp-"
      },
      "execution_count": null,
      "outputs": []
    },
    {
      "cell_type": "code",
      "source": [
        "matriz = [ [\"Lab1\", 8],[\"Lab2\", 9], [\"Parcial\", 10] ]\n",
        "reduce(obtenerNota, matriz, 0)"
      ],
      "metadata": {
        "id": "n3LofZGjmNKE",
        "outputId": "d84b5b28-b4f7-461d-bc0b-439c12fb5404",
        "colab": {
          "base_uri": "https://localhost:8080/"
        }
      },
      "execution_count": null,
      "outputs": [
        {
          "output_type": "execute_result",
          "data": {
            "text/plain": [
              "8.1"
            ]
          },
          "metadata": {},
          "execution_count": 33
        }
      ]
    },
    {
      "cell_type": "markdown",
      "source": [
        "LABORATORIO 2"
      ],
      "metadata": {
        "id": "oAb-V58nbE_G"
      }
    },
    {
      "cell_type": "markdown",
      "source": [
        "- Calcular el valor a pagar según el número de metros consumidos de agua potable\n",
        "(20%)"
      ],
      "metadata": {
        "id": "F25uOP7HuE6B"
      }
    },
    {
      "cell_type": "code",
      "source": [
        "def calcular_valor(metros_consumidos):\n",
        "    if metros_consumidos <= 18:\n",
        "        return 6\n",
        "    elif metros_consumidos <= 28:\n",
        "        exceso_18 = metros_consumidos - 18\n",
        "        return 6 + (exceso_18 * 0.45)\n",
        "    else:\n",
        "        exceso_18 = 10\n",
        "        exceso_28 = metros_consumidos - 28\n",
        "        return 6 + (exceso_18 * 0.45) + (exceso_28 * 0.65)\n",
        "\n",
        "metros_consumidos = float(input(\"Ingrese los metros cúbicos de agua consumidos: \"))\n",
        "valor_a_pagar = calcular_valor(metros_consumidos)\n",
        "\n",
        "print(f\"El valor a pagar por {metros_consumidos} metros cúbicos de agua consumidos es: ${valor_a_pagar:.2f}\")\n"
      ],
      "metadata": {
        "id": "liwdBlR4tq-F",
        "outputId": "9a3ae010-08a6-4f19-9fcf-416c795c9a11",
        "colab": {
          "base_uri": "https://localhost:8080/"
        }
      },
      "execution_count": null,
      "outputs": [
        {
          "output_type": "stream",
          "name": "stdout",
          "text": [
            "Ingrese los metros cúbicos de agua consumidos: 38\n",
            "El valor a pagar por 38.0 metros cúbicos de agua consumidos es: $17.00\n"
          ]
        }
      ]
    },
    {
      "cell_type": "markdown",
      "source": [
        "Calcular sobre el sueldo las deducciones por ley ISSS (3%), AFP(6.25%), ISR(Según tabla) e imprima el total deducciones y\n",
        "sueldo neto. (20%)"
      ],
      "metadata": {
        "id": "KENm8_eEu9iE"
      }
    },
    {
      "cell_type": "code",
      "source": [
        "import math\n",
        "isss = 0.03\n",
        "afp = 0.0625\n",
        "tabla_isr = {\n",
        "    \"desde\":[0.01, 472.01, 895.25, 2038.11],\n",
        "    \"hasta\":[472, 895.24, 2038.10, math.inf],\n",
        "    \"porcentaje\":[0.00, 0.10, 0.20, 0.30],\n",
        "    \"cuota_fija\":[0.00, 17.67, 60.00, 288.57]\n",
        "}\n",
        "frecuencias = {\"mensual\":1,\"quincenal\":2,\"semanal\":4}\n",
        "\n",
        "def calcular_isr(sueldo,frecuencia):\n",
        "    sueldo *= 1-(afp+isss)\n",
        "    for i in range(len(tabla_isr[\"desde\"])):\n",
        "        if tabla_isr[\"desde\"][i]/frecuencias[frecuencia]<=sueldo<tabla_isr[\"hasta\"][i]/frecuencias[frecuencia]:\n",
        "            return (sueldo-tabla_isr[\"desde\"][i]/frecuencias[frecuencia])*tabla_isr[\"porcentaje\"][i]+tabla_isr[\"cuota_fija\"][i]/frecuencias[frecuencia]\n",
        "    return 0\n",
        "def calcular_sueldo(sueldo,isr,isss,afp):\n",
        "    return sueldo*(1-(isss+afp))-isr\n",
        "\n",
        "def obtener_sueldo():\n",
        "    try:\n",
        "        sueldo_bruto = float(input(\"Ingresa tu sueldo: \"))\n",
        "    except:\n",
        "        print(\"Debes ingresar un numero\")\n",
        "        return obtener_sueldo()\n",
        "    if sueldo_bruto<0:\n",
        "        print(\"Tu sueldo no puede ser negativo!\")\n",
        "        return obtener_sueldo()\n",
        "    elif sueldo_bruto <= 0.01:\n",
        "        print(\"Te entiendo y lamento tu desafortunada situación ¡Espero que encuentres trabajo pronto!\",\n",
        "        \"\\n¡El lado bueno es que no pagas impuestos!\")\n",
        "        return 0\n",
        "    else:\n",
        "        return sueldo_bruto\n",
        "\n",
        "def obtener_frecuencia():\n",
        "    frecuencia = input(\"Ingresa tu frecuencia de pago (mensual, quincenal, semanal): \")\n",
        "    if frecuencia ==\"\":\n",
        "        frecuencia = \"mensual\"\n",
        "    if frecuencia not in frecuencias:\n",
        "        print(\"Frecuencia no válida\")\n",
        "        return obtener_frecuencia()\n",
        "    return frecuencia\n",
        "\n",
        "#--------------------------------------------------------------------------------\n",
        "\n",
        "frecuencia_pago = obtener_frecuencia()\n",
        "sueldo_bruto = obtener_sueldo()\n",
        "if sueldo_bruto > 0 :\n",
        "    isr = calcular_isr(sueldo_bruto,frecuencia_pago)\n",
        "    sueldo_neto = calcular_sueldo(sueldo_bruto,isr,afp,isss)\n",
        "    print(f\"Debes pagar los siguientes impuestos de forma {frecuencia_pago}:\",\n",
        "        \"\\nISSS: \",round(isss*sueldo_bruto,2),\n",
        "        \"\\nAFP:\",round(afp*sueldo_bruto,2),\n",
        "        \"\\nISR:\",round(isr,2)\n",
        "        )\n",
        "    print(\"Tu sueldo neto es de: \",round(sueldo_neto,2))"
      ],
      "metadata": {
        "id": "9I9WsZKJu7yX",
        "outputId": "10dc815d-a3e8-4b2c-c5e5-d8c10a03a4d7",
        "colab": {
          "base_uri": "https://localhost:8080/"
        }
      },
      "execution_count": null,
      "outputs": [
        {
          "output_type": "stream",
          "name": "stdout",
          "text": [
            "Ingresa tu frecuencia de pago (mensual, quincenal, semanal): mensual\n",
            "Ingresa tu sueldo: 800\n",
            "Debes pagar los siguientes impuestos de forma mensual: \n",
            "ISSS:  24.0 \n",
            "AFP: 50.0 \n",
            "ISR: 43.07\n",
            "Tu sueldo neto es de:  682.93\n"
          ]
        }
      ]
    },
    {
      "cell_type": "markdown",
      "source": [
        "Desarrolle la tabla de meses acumulados a n meses. Si puede encontrar la fórmula matemática para evitar ciclos. (10%)"
      ],
      "metadata": {
        "id": "6XZUBm5Vxnou"
      }
    },
    {
      "cell_type": "code",
      "source": [
        "def calcular_meses(n):\n",
        "    return (n*(n+1))//2\n",
        "\n",
        "def mostrar_meses(inicio,fin):\n",
        "    for i in range(inicio,fin+1):\n",
        "        print(f\"Mes {i}: {calcular_meses(i)}\")\n",
        "\n",
        "n=int(input(\"Ingresa la cantidad de meses: \"))\n",
        "\n",
        "if n < 12:\n",
        "    mostrar_meses(1,n)\n",
        "else:\n",
        "    mostrar_meses(1,6)\n",
        "    print(\"...\")\n",
        "    mostrar_meses(n-6,n)"
      ],
      "metadata": {
        "id": "LwHTzZr7xGNn",
        "outputId": "d447a5a8-1bab-4c67-f3cd-474de354dfc4",
        "colab": {
          "base_uri": "https://localhost:8080/"
        }
      },
      "execution_count": null,
      "outputs": [
        {
          "output_type": "stream",
          "name": "stdout",
          "text": [
            "Ingresa la cantidad de meses: 10\n",
            "Mes 1: 1\n",
            "Mes 2: 3\n",
            "Mes 3: 6\n",
            "Mes 4: 10\n",
            "Mes 5: 15\n",
            "Mes 6: 21\n",
            "Mes 7: 28\n",
            "Mes 8: 36\n",
            "Mes 9: 45\n",
            "Mes 10: 55\n"
          ]
        }
      ]
    },
    {
      "cell_type": "markdown",
      "source": [
        "Conversores: (40%) (10 ítems como mínimo por cada uno)"
      ],
      "metadata": {
        "id": "2HgDaXntwpes"
      }
    },
    {
      "cell_type": "code",
      "source": [
        "conversor={\n",
        "\"Monedas\":{\"Dolares\":1, \"Euros\":0.90, \"Colones Salvadoreños\":8.76,  \"Córdobas\":36.84, \"Lempiras\":24.80,  \"Libras esterlinas\":0.77, \"Yenes\":145.95, \"Pesos mexicanos\":19.01, \"Quetzales\":7.75, \"Pesos argentinos\":943.75},\n",
        "\"Longitud\":{\"Metros\":1,\"Centímetros\":100,\"Milímetros\":1000,\"Micrómetros\":1000000,\"Nanómetros\":1000000000,\"Kilómetros\":1/1000,\"Millas\":1/1609,\"Pulgadas\":3.281*12,\"Pies\":3.281,\"Yardas\":3.281/3},\n",
        "\"Masa\":{\"Kilogramos\":1,\"Gramos\":1000,\"Miligramos\":10**3,\"Microgramos\":10**6,\"Libras\":2.20462,\"Onzas\":2.20462*16,\"Stones\":2.20462/14,\"Toneladas\":1/1000,\"Toneladas largas\":1/1016,\"Toneladas cortas\":2.20462/2000,},\n",
        "\"Almacenamiento\":{\"Bits\":1,\"Bytes\":8,\"Kilobytes\":8/1000,\"Megabytes\":8/10**6,\"Gigabytes\":8/10**9,\"Terabytes\":8/10**12,\"Kibibytes\":8/1024,\"Mebibytes\":8/1024**2,\"Gibibytes\":8/1024**3,\"Tebibytes\":8/1024**4},\n",
        "\"Tiempo\":{\"Microsegundos\":3600*10**6,\"Milisegundos\":3600*1000,\"Segundos\":3600,\"Minutos\":60,\"Horas\":1,\"Días\":1/24,\"Semanas\":1/(24*7),\"Meses\":1/(24*30),\"Años\":1/(24*365),\"Décadas\":1/(24*365*10),\"Siglos\":1/(24*365*100)},\n",
        "\"Volúmen\":{\"Litros\":1,\"Mililitros\":1000,\"Galones\":1/3.7854,\"Cuartos\":4/3.7854,\"Pintas\":8/3.7854,\"Tazas\":1000/240,\"Onzas\":128/3.7854,\"Cucharadas\":256/3.7854,\"Cucharaditas\":768/3.7854},\n",
        "\"Área\":{\"Km cuadrados\":1,\"Hectáreas\":100,\"Metros cuadrados\":10**6,\"Pies cuadrados\":10.764*10**6,\"Yardas cuadradas\":1.196*10**6,\"Acres\":247.105,\"Millas cuadradas\":0.386102,\"Pulgadas cuadradas\":1.55*10**9,\"Manzanas\":143.0828,\"Tareas\":143.0828*16},\n",
        "}\n",
        "\n",
        "def mostrar_magnitudes():\n",
        "    print(\"Magnitudes disponibles:\")\n",
        "    for i in conversor.keys():\n",
        "        print(f\"-{i}\")\n",
        "\n",
        "def mostrar_unidades(magnitud):\n",
        "    print(f\"Unidades de {magnitud}:\")\n",
        "    for u in conversor[magnitud].keys():\n",
        "        print(f\"-{u}\")\n",
        "\n",
        "\n",
        "def obtener_unidad(magnitud,tipo):\n",
        "    unidad = input(f\"Convertir {tipo}: \")\n",
        "    if unidad not in conversor[magnitud]:\n",
        "        print(f\"La unidad {unidad} no está disponible en {magnitud}\")\n",
        "        return obtener_unidad(magnitud,tipo)\n",
        "    return unidad\n",
        "\n",
        "def obtener_magnitud():\n",
        "    magnitud=input(\"Ingresa que quieres convertir: \")\n",
        "    if magnitud not in conversor.keys():\n",
        "        print(f\"La magnitud {magnitud} no está disponible\")\n",
        "        return obtener_magnitud()\n",
        "    return magnitud\n",
        "\n",
        "def obtener_cantidad():\n",
        "    try :\n",
        "        cantidad = float(input(\"Cantidad:\"))\n",
        "    except:\n",
        "        print(\"Debes ingresar un numero\")\n",
        "        return obtener_cantidad()\n",
        "    return cantidad\n",
        "\n",
        "def convertir(magnitud,de,a,cantidad):\n",
        "    res=cantidad*conversor[magnitud][a]/conversor[magnitud][de]\n",
        "    print(f\"{cantidad} {de} equivalen a {res} {a}\")\n",
        "#------------------------------------------------------------------------------\n",
        "\n",
        "mostrar_magnitudes()\n",
        "magnitud = obtener_magnitud()\n",
        "mostrar_unidades(magnitud)\n",
        "de = obtener_unidad(magnitud,\"de\")\n",
        "a= obtener_unidad(magnitud,\"a\")\n",
        "cantidad = obtener_cantidad()\n",
        "convertir(magnitud,de,a,cantidad)"
      ],
      "metadata": {
        "colab": {
          "base_uri": "https://localhost:8080/"
        },
        "id": "UVNx2qWtELBk",
        "outputId": "94bc8c7b-fcb1-4836-b26a-e85a921d441d"
      },
      "execution_count": null,
      "outputs": [
        {
          "output_type": "stream",
          "name": "stdout",
          "text": [
            "Magnitudes disponibles:\n",
            "-Monedas\n",
            "-Longitud\n",
            "-Masa\n",
            "-Almacenamiento\n",
            "-Tiempo\n",
            "-Volúmen\n",
            "-Área\n",
            "Ingresa que quieres convertir: Área\n",
            "Unidades de Área:\n",
            "-Km cuadrados\n",
            "-Hectáreas\n",
            "-Metros cuadrados\n",
            "-Pies cuadrados\n",
            "-Yardas cuadradas\n",
            "-Acres\n",
            "-Millas cuadradas\n",
            "-Pulgadas cuadradas\n",
            "-Manzanas\n",
            "-Tareas\n",
            "Convertir de: Manzana\n",
            "La unidad Manzana no está disponible en Área\n",
            "Convertir de: Manzanas\n",
            "Convertir a: Tareas\n",
            "Cantidad:1\n",
            "1.0 Manzanas equivalen a 16.0 Tareas\n"
          ]
        }
      ]
    },
    {
      "cell_type": "markdown",
      "source": [
        "- Conversor propio"
      ],
      "metadata": {
        "id": "2LLO4K-fqDEQ"
      }
    },
    {
      "cell_type": "code",
      "source": [
        "conversor={\n",
        "\"Manzanas\":{\"Manzanas\":1,\"Bandejas\":1/4,\"Cajas\":1/150,\"Cargamentos\":1/20000},\n",
        "#\"Huevos\":{\"Huevos\":1,\"Docenas\":1/12,\"Cartones\":1/30,\"Cajas\":1/180,\"Cargamentos\":1/60000},\n",
        "\"Huevos\":{\"Cargamentos\":1,\"Cajas\":400,\"Cartones\":2000,\"Docenas\":5000,\"Huevos\":60000}\n",
        "}\n",
        "def mostrar_magnitudes():\n",
        "    print(\"Magnitudes disponibles:\")\n",
        "    for i in conversor.keys():\n",
        "        print(f\"-{i}\")\n",
        "\n",
        "def mostrar_unidades(magnitud):\n",
        "    print(f\"Unidades de {magnitud}:\")\n",
        "    for u in conversor[magnitud].keys():\n",
        "        print(f\"-{u}\")\n",
        "\n",
        "\n",
        "def obtener_unidad(magnitud,tipo):\n",
        "    unidad = input(f\"Convertir {tipo}: \")\n",
        "    if unidad not in conversor[magnitud]:\n",
        "        print(f\"La unidad {unidad} no está disponible en {magnitud}\")\n",
        "        return obtener_unidad(magnitud,tipo)\n",
        "    return unidad\n",
        "\n",
        "def obtener_magnitud():\n",
        "    magnitud=input(\"Ingresa que quieres convertir: \")\n",
        "    if magnitud not in conversor.keys():\n",
        "        print(f\"La magnitud {magnitud} no está disponible\")\n",
        "        return obtener_magnitud()\n",
        "    return magnitud\n",
        "\n",
        "def obtener_cantidad():\n",
        "    try :\n",
        "        cantidad = float(input(\"Cantidad:\"))\n",
        "    except:\n",
        "        print(\"Debes ingresar un numero\")\n",
        "        return obtener_cantidad()\n",
        "    return cantidad\n",
        "\n",
        "def convertir(magnitud,de,a,cantidad):\n",
        "    resultado=cantidad*conversor[magnitud][a]//conversor[magnitud][de]\n",
        "    residuo=cantidad%(conversor[magnitud][de]/conversor[magnitud][a])\n",
        "    msg = f\"{cantidad} {de} equivalen a {resultado} {a}\"\n",
        "    if residuo >= 1:\n",
        "        msg += f\" y {residuo} {de}\"\n",
        "    print(msg)\n",
        "#----------------------------------------------------------------------------------\n",
        "\n",
        "mostrar_magnitudes()\n",
        "magnitud = obtener_magnitud()\n",
        "mostrar_unidades(magnitud)\n",
        "de = obtener_unidad(magnitud,\"de\")\n",
        "a= obtener_unidad(magnitud,\"a\")\n",
        "cantidad = obtener_cantidad()\n",
        "convertir(magnitud,de,a,cantidad)"
      ],
      "metadata": {
        "id": "IY1zMQVeqGuf",
        "outputId": "e81d9cea-eb1c-4112-ae9d-764d8b27bae6",
        "colab": {
          "base_uri": "https://localhost:8080/"
        }
      },
      "execution_count": null,
      "outputs": [
        {
          "output_type": "stream",
          "name": "stdout",
          "text": [
            "Magnitudes disponibles:\n",
            "-Manzanas\n",
            "-Huevos\n",
            "Ingresa que quieres convertir: Huevos\n",
            "Unidades de Huevos:\n",
            "-Cargamentos\n",
            "-Cajas\n",
            "-Cartones\n",
            "-Docenas\n",
            "-Huevos\n",
            "Convertir de: Huevos\n",
            "Convertir a: Cartones\n",
            "Cantidad:92\n",
            "92.0 Huevos equivalen a 3.0 Cartones y 2.0 Huevos\n"
          ]
        }
      ]
    },
    {
      "cell_type": "markdown",
      "source": [
        "Clase virtual 12 de agosto"
      ],
      "metadata": {
        "id": "KNs0bfRKgGlC"
      }
    },
    {
      "cell_type": "code",
      "source": [
        "serie = [1,2,3,3,4,1,8,9]\n",
        "print(serie.count(1))"
      ],
      "metadata": {
        "id": "2jHVBzbagKh7",
        "outputId": "620984c0-4886-4c12-bd9a-60130e7ad0bf",
        "colab": {
          "base_uri": "https://localhost:8080/"
        }
      },
      "execution_count": null,
      "outputs": [
        {
          "output_type": "stream",
          "name": "stdout",
          "text": [
            "2\n"
          ]
        }
      ]
    },
    {
      "cell_type": "code",
      "source": [
        "numeros = []\n",
        "for i in range(1,10):\n",
        "  numeros.append(int(input(\"Num: \"+str(i)+\": \")))\n",
        "num = int(input(\"Num a buscar: \"))\n",
        "print(\"Serie: \", numeros, \"El numero \", num, \" se repite \", numeros.count(num))"
      ],
      "metadata": {
        "id": "JBaM40rJgWBo",
        "outputId": "59afcc6f-2b5a-44eb-bf8b-9411e0dc1cc7",
        "colab": {
          "base_uri": "https://localhost:8080/"
        }
      },
      "execution_count": null,
      "outputs": [
        {
          "output_type": "stream",
          "name": "stdout",
          "text": [
            "Num: 1: 5\n",
            "Num: 2: 6\n",
            "Num: 3: 5\n",
            "Num: 4: 4\n",
            "Num: 5: 3\n",
            "Num: 6: 5\n",
            "Num: 7: 4\n",
            "Num: 8: 5\n",
            "Num: 9: 3\n",
            "Num a buscar: 5\n",
            "Serie:  [5, 6, 5, 4, 3, 5, 4, 5, 3] El numero  5  se repite  4\n"
          ]
        }
      ]
    },
    {
      "cell_type": "code",
      "source": [
        "numeros = [1,5,4,3,1,2]\n",
        "numeros.sort()\n",
        "numeros.reverse()\n",
        "print(numeros)\n"
      ],
      "metadata": {
        "id": "1J0PXBMcj0Gm",
        "outputId": "8a8d4a25-f232-4f76-c66b-a8b690ee3862",
        "colab": {
          "base_uri": "https://localhost:8080/"
        }
      },
      "execution_count": null,
      "outputs": [
        {
          "output_type": "stream",
          "name": "stdout",
          "text": [
            "[5, 4, 3, 2, 1, 1]\n"
          ]
        }
      ]
    },
    {
      "cell_type": "markdown",
      "source": [
        "Diccionarios - JSON"
      ],
      "metadata": {
        "id": "-KGT1sT7kY6J"
      }
    },
    {
      "cell_type": "code",
      "source": [
        "datos = {\n",
        "    \"codigo\":\"USSS031223\",\n",
        "    \"nombre\":\"Daniel Vargas\",\n",
        "    \"materias\": [\n",
        "        {\"codigo\":\"611\",\"nombre\":\"Programacion III\",\"notas\":{\n",
        "            \"C1\":{\"LAB1\":8, \"LAB2\":9, \"Parcial\": 10},\n",
        "            \"C2\":{\"LAB1\":10, \"LAB2\":9, \"Parcial\": 10},\n",
        "            \"C3\":{\"LAB1\":4, \"LAB2\":5, \"Parcial\": 8}\n",
        "            }\n",
        "         },\n",
        "        {\"codigo\":\"612\",\"nombre\":\"Estadistica Computacional\"}\n",
        "    ]\n",
        "}\n",
        "print(datos[\"nombre\"], datos[\"materias\"][0][\"nombre\"], datos[\"materias\"][0][\"notas\"][\"C1\"])"
      ],
      "metadata": {
        "id": "CYzgRhu7kbcx",
        "outputId": "8f469c9d-b212-452a-c17f-ce6a3a5318b2",
        "colab": {
          "base_uri": "https://localhost:8080/"
        }
      },
      "execution_count": null,
      "outputs": [
        {
          "output_type": "stream",
          "name": "stdout",
          "text": [
            "Daniel Vargas Programacion III {'LAB1': 8, 'LAB2': 9, 'Parcial': 10}\n"
          ]
        }
      ]
    },
    {
      "cell_type": "markdown",
      "source": [
        "Clase presencial 14-08"
      ],
      "metadata": {
        "id": "ToRw8kexTAWa"
      }
    },
    {
      "cell_type": "markdown",
      "source": [
        "IF\n",
        "Ejercicio: Solicitar al usuruario la edad y determinar su clasificacion"
      ],
      "metadata": {
        "id": "H38zadC6TFvM"
      }
    },
    {
      "cell_type": "code",
      "source": [
        "edad = int(input(\"edad: \"))\n",
        "if edad>17:\n",
        "  print(\"Bienvenido al mundo de la responsabilidad\")"
      ],
      "metadata": {
        "id": "wbl6g0ZMTC8I",
        "outputId": "4c50fb20-f2bf-488c-9e8d-4a1e641fce37",
        "colab": {
          "base_uri": "https://localhost:8080/"
        }
      },
      "execution_count": null,
      "outputs": [
        {
          "output_type": "stream",
          "name": "stdout",
          "text": [
            "edad: 20\n",
            "Bienvenido al mundo de la responsabilidad\n"
          ]
        }
      ]
    },
    {
      "cell_type": "code",
      "source": [
        "edad = int(input(\"edad: \"))\n",
        "if(edad<0):\n",
        "  print(\"Error\")\n",
        "elif edad<-2:\n",
        "  print(\"Eres un bebe\")\n",
        "elif edad<12:\n",
        "  print(\"Eres un niño\")\n",
        "elif edad<18:\n",
        "  print(\"Eres un adolecente\")\n",
        "elif edad<65:\n",
        "  print(\"Eres un adulto\")\n",
        "elif edad<85:\n",
        "  print(\"Eres un adulto mayor\")\n",
        "else:\n",
        "  print(\"Larga vida\")"
      ],
      "metadata": {
        "id": "kI02FOZQTVqZ",
        "outputId": "4ed360fd-e1cc-40a9-e938-27afb0c2f3b6",
        "colab": {
          "base_uri": "https://localhost:8080/"
        }
      },
      "execution_count": null,
      "outputs": [
        {
          "output_type": "stream",
          "name": "stdout",
          "text": [
            "edad: 30\n",
            "Eres un adulto\n"
          ]
        }
      ]
    },
    {
      "cell_type": "code",
      "source": [
        "num = int(input(\"Num: \"))\n",
        "if num>0:\n",
        "  print(\"Positivo\")\n",
        "elif num<0:\n",
        "  print(\"Negativo\")\n",
        "else:\n",
        "  print(\"Cero\")"
      ],
      "metadata": {
        "id": "1Cj4p4lqTn-Q",
        "outputId": "53138722-af7f-4364-80d6-70c7b9c6afc0",
        "colab": {
          "base_uri": "https://localhost:8080/"
        }
      },
      "execution_count": null,
      "outputs": [
        {
          "output_type": "stream",
          "name": "stdout",
          "text": [
            "Num: 6\n",
            "Positivo\n"
          ]
        }
      ]
    },
    {
      "cell_type": "markdown",
      "source": [
        "Ciclo while"
      ],
      "metadata": {
        "id": "Ky3II3yJTunI"
      }
    },
    {
      "cell_type": "code",
      "source": [
        "continuar = \"s\"\n",
        "while continuar==\"s\":\n",
        "  edad = int(input(\"edad: \"))\n",
        "  if(edad<0):\n",
        "     print(\"Error\")\n",
        "  elif edad<-2:\n",
        "     print(\"Eres un bebe\")\n",
        "  elif edad<12:\n",
        "     print(\"Eres un niño\")\n",
        "  elif edad<18:\n",
        "     print(\"Eres un adolecente\")\n",
        "  elif edad<65:\n",
        "     print(\"Eres un adulto\")\n",
        "  elif edad<85:\n",
        "     print(\"Eres un adulto mayor\")\n",
        "  else:\n",
        "     print(\"Larga vida\")\n",
        "  continuar = input(\"Continuar s, sino cualquier tecla: \")"
      ],
      "metadata": {
        "id": "DOH4JYRATwUn",
        "outputId": "0b31bcd7-eaf3-4cfa-f940-3f56cc86f288",
        "colab": {
          "base_uri": "https://localhost:8080/"
        }
      },
      "execution_count": null,
      "outputs": [
        {
          "name": "stdout",
          "output_type": "stream",
          "text": [
            "edad: 6\n",
            "Eres un niño\n",
            "Continuar s, sino cualquier tecla: s\n",
            "edad: 12\n",
            "Eres un adolecente\n",
            "Continuar s, sino cualquier tecla: n\n"
          ]
        }
      ]
    },
    {
      "cell_type": "markdown",
      "source": [
        "Ciclo FOR\n"
      ],
      "metadata": {
        "id": "0_mCTLehUC_7"
      }
    },
    {
      "cell_type": "code",
      "source": [
        "continuar=\"s\"\n",
        "while continuar==\"s\":\n",
        "  tabla = int(input(\"Tabla: \"))\n",
        "  for i in range(1,11):\n",
        "    print(tabla, \"x\" ,i, \"=\" ,tabla*i)\n",
        "  continuar = input(\"Continuar s, sino cualquier tecla: \")4\n"
      ],
      "metadata": {
        "id": "jXKBp0ygUEK8",
        "outputId": "a7033190-df08-4dcf-c3bc-e72cfc4d86d9",
        "colab": {
          "base_uri": "https://localhost:8080/"
        }
      },
      "execution_count": null,
      "outputs": [
        {
          "name": "stdout",
          "output_type": "stream",
          "text": [
            "Tabla: 7\n",
            "7 x 1 = 7\n",
            "7 x 2 = 14\n",
            "7 x 3 = 21\n",
            "7 x 4 = 28\n",
            "7 x 5 = 35\n",
            "7 x 6 = 42\n",
            "7 x 7 = 49\n",
            "7 x 8 = 56\n",
            "7 x 9 = 63\n",
            "7 x 10 = 70\n",
            "Continuar s, sino cualquier tecla: S\n"
          ]
        }
      ]
    },
    {
      "cell_type": "markdown",
      "source": [
        "**Clase virtual 19-08**"
      ],
      "metadata": {
        "id": "yrDOe_PhqPgh"
      }
    },
    {
      "cell_type": "markdown",
      "source": [
        "**PROGRAMACION ORIENTADA A OBJETOS**"
      ],
      "metadata": {
        "id": "fjKicFSMqTpR"
      }
    },
    {
      "cell_type": "markdown",
      "source": [
        "- CLASE"
      ],
      "metadata": {
        "id": "sqAJ7Mf7qXSD"
      }
    },
    {
      "cell_type": "code",
      "source": [
        "class Calculadora:\n",
        "  def sumar(self, num1, num2):\n",
        "    return num1 + num2"
      ],
      "metadata": {
        "id": "Xnv27uR9quu6"
      },
      "execution_count": null,
      "outputs": []
    },
    {
      "cell_type": "code",
      "source": [
        "#Instanciar la clase calculadora, para crear el objeto a partir de la clase.\n",
        "objCalculadora = Calculadora()\n",
        "num1 = float(input(\"Num1: \"))\n",
        "num2 = float(input(\"Num2: \"))\n",
        "print(\"La suma es: \", objCalculadora.sumar(num1, num2))"
      ],
      "metadata": {
        "id": "uAYPfs8Yq0A0",
        "outputId": "f15e2f9a-6662-4cd3-e95f-658762c5cf94",
        "colab": {
          "base_uri": "https://localhost:8080/"
        }
      },
      "execution_count": null,
      "outputs": [
        {
          "output_type": "stream",
          "name": "stdout",
          "text": [
            "Num1: 6\n",
            "Num2: 4\n",
            "La suma es:  10.0\n"
          ]
        }
      ]
    },
    {
      "cell_type": "markdown",
      "source": [
        " **EJERCICIO: Escriba un programa que lea una serie de numeros introducidos por el usuario y determine la media aritmetica**"
      ],
      "metadata": {
        "id": "WOAWl2W4rQjl"
      }
    },
    {
      "cell_type": "code",
      "source": [
        "from math import sqrt\n",
        "\n",
        "class estadistica:\n",
        "    def media(self, serie):\n",
        "        suma = 0\n",
        "        for num in serie:\n",
        "            suma += num\n",
        "        return suma/len(serie)\n",
        "\n",
        "    def tipica(self, serie):\n",
        "        media = self.media(serie)\n",
        "        suma = 0\n",
        "        for num in serie:\n",
        "            suma += (num-media)**2\n",
        "        return sqrt(suma/len(serie))\n",
        "\n",
        "    #TAREA\n",
        "\n",
        "    def varianza(self, serie):\n",
        "        media = self.media(serie)\n",
        "        return sum([(x-media)**2 for x in serie])/len(serie)\n",
        "\n",
        "    def frecuencias_absolutas(self, serie):\n",
        "        serie_sin_repetir = list(set(serie))\n",
        "        return [(x, serie.count(x)) for x in serie_sin_repetir]\n",
        "\n",
        "    def frecuencias_relativas(self, serie):\n",
        "        return [(x, serie.count(x)/len(serie)) for x in list(set(serie))]\n"
      ],
      "metadata": {
        "id": "npSF3__OsdO8"
      },
      "execution_count": null,
      "outputs": []
    },
    {
      "cell_type": "code",
      "source": [
        "n = int(input(\"Cuantos numeros va a ingresar: \"))\n",
        "serie = []\n",
        "for num in range(1,n+1):\n",
        "  serie.append(int(input(\"Num: \")))\n",
        "\n",
        "objEstadistica = estadistica()\n",
        "print(\"La media es: \", objEstadistica.media(serie))\n",
        "\n",
        "print(\"La desviacion tipica es: \", round(objEstadistica.tipica(serie),3) )\n",
        "\n",
        "#Tarea\n",
        "print(f\"La varianza es: {round(estadistica().varianza(serie),2)} \")\n",
        "\n",
        "print(\"\\nFrecuencias absolutas:\")\n",
        "print(\"\\nDato \\tFrecuencia absoluta\")\n",
        "for x in estadistica().frecuencias_absolutas(serie):\n",
        "    print(f\"{x[0]} \\t\\t{x[1]}\")\n",
        "\n",
        "print(\"\\nFrecuencias relativas:\")\n",
        "print(\"\\nDato \\tFrecuencia relativa\")\n",
        "for x in estadistica().frecuencias_relativas(serie):\n",
        "    print(f\"{x[0]} \\t\\t{round(x[1],2)}\")"
      ],
      "metadata": {
        "id": "0-0I0ZkirgHZ",
        "outputId": "47e1f9c3-b8ac-430e-9d6a-eaabeb3c3a9f",
        "colab": {
          "base_uri": "https://localhost:8080/"
        }
      },
      "execution_count": null,
      "outputs": [
        {
          "output_type": "stream",
          "name": "stdout",
          "text": [
            "Cuantos numeros va a ingresar: 3\n",
            "Num: 2\n",
            "Num: 4\n",
            "Num: 3\n",
            "La media es:  3.0\n",
            "La desviacion tipica es:  0.816\n",
            "La varianza es: 0.67 \n",
            "\n",
            "Frecuencias absolutas:\n",
            "\n",
            "Dato \tFrecuencia absoluta\n",
            "2 \t\t1\n",
            "3 \t\t1\n",
            "4 \t\t1\n",
            "\n",
            "Frecuencias relativas:\n",
            "\n",
            "Dato \tFrecuencia relativa\n",
            "2 \t\t0.33\n",
            "3 \t\t0.33\n",
            "4 \t\t0.33\n"
          ]
        }
      ]
    },
    {
      "cell_type": "markdown",
      "source": [
        "TAREA:\n",
        "\n",
        "*   Encontrar de una serie de numeros introducidos por el usuario la varianza\n",
        "*   Encontrar de una serie de numeros introducidos por el usuario la frecuencia\n",
        "*   Escriba un programa que determine si una palabra introducida por el usuario es palindrome Ejem: Ana, Oso, Oro\n",
        "\n",
        "\n",
        "\n",
        "\n"
      ],
      "metadata": {
        "id": "H63Lhh-CxDHj"
      }
    },
    {
      "cell_type": "markdown",
      "source": [
        "Palindrome"
      ],
      "metadata": {
        "id": "J70gwj6M6tcd"
      }
    },
    {
      "cell_type": "code",
      "source": [
        "palabra = input(\"Ingresa una palabra: \")\n",
        "palabra_invertida = palabra[::-1]\n",
        "if palabra.lower() == palabra_invertida.lower():\n",
        "    print(\"Es palindrome\")\n",
        "else:\n",
        "    print(\"No es palindrome\")"
      ],
      "metadata": {
        "colab": {
          "base_uri": "https://localhost:8080/"
        },
        "id": "3Na7GjvA6rBs",
        "outputId": "e092e891-1291-41c5-edb5-a1725e1e62d2"
      },
      "execution_count": null,
      "outputs": [
        {
          "output_type": "stream",
          "name": "stdout",
          "text": [
            "Ingresa una palabra: oso\n",
            "Es palindrome\n"
          ]
        }
      ]
    },
    {
      "cell_type": "markdown",
      "source": [
        "**PARCIAL 1** **28/08/24**"
      ],
      "metadata": {
        "id": "iU_IGndyJe0Q"
      }
    },
    {
      "cell_type": "markdown",
      "source": [
        "**EJERCICIO 1: Desarrolle un algoritmo en Python que calcule el IMPUESTO A LAS\n",
        "ACTIVIDADES ECONOMICAS de acuerdo con la siguiente tabla. El monto\n",
        "de la actividad económica debe ser introducido por el usuario. (40%)**"
      ],
      "metadata": {
        "id": "WHJbinlQJvZP"
      }
    },
    {
      "cell_type": "code",
      "source": [
        "tabla_impuestos = [\n",
        "    {\"desde\": 0.01, \"hasta\": 500, \"precio\": 1.5, \"adicional\": 0},\n",
        "    {\"desde\": 500.01, \"hasta\": 1000, \"precio\": 1.5, \"adicional\": 3},\n",
        "    {\"desde\": 1000.01, \"hasta\": 2000, \"precio\": 3, \"adicional\": 3},\n",
        "    {\"desde\": 2000.01, \"hasta\": 3000, \"precio\": 6, \"adicional\": 3},\n",
        "    {\"desde\": 3000.01, \"hasta\": 8000, \"precio\": 9, \"adicional\": 3},\n",
        "    {\"desde\": 8000.01, \"hasta\": 18000, \"precio\": 12, \"adicional\": 2},\n",
        "    {\"desde\": 18000.01, \"hasta\": 30000, \"precio\": 39, \"adicional\": 2},\n",
        "    {\"desde\": 30000.01, \"hasta\": 40000, \"precio\": 63, \"adicional\": 2},\n",
        "    {\"desde\": 40000.01, \"hasta\": 100000, \"precio\": 83, \"adicional\": 0.8},\n",
        "    {\"desde\": 100000.01, \"hasta\": 200000, \"precio\": 125, \"adicional\": 0.7},\n",
        "    {\"desde\": 200000.01, \"hasta\": 300000, \"precio\": 155, \"adicional\": 0.5},\n",
        "    {\"desde\": 300000.01, \"hasta\": 400000, \"precio\": 255, \"adicional\": 0.45},\n",
        "    {\"desde\": 400000.01, \"hasta\": 1000000, \"precio\": 300, \"adicional\": 0.4},\n",
        "    {\"desde\": 1000000.01, \"hasta\": 2000000, \"precio\": 340, \"adicional\": 0.3},\n",
        "    {\"desde\": 2000000.01, \"hasta\": 9999999, \"precio\": 480, \"adicional\": 0.18},\n",
        "]\n",
        "\n",
        "monto = float(input(\"Ingrese el monto de la actividad económica: \"))\n",
        "\n",
        "impuesto = 0\n",
        "for rango in tabla_impuestos:\n",
        "    if rango[\"desde\"] <= monto <= rango[\"hasta\"]:\n",
        "        excedente = monto - rango[\"desde\"]\n",
        "        impuesto = rango[\"precio\"] + (excedente / 1000) * rango[\"adicional\"]\n",
        "        break\n",
        "\n",
        "print(f\"El impuesto a pagar es: ${impuesto:.2f}\")"
      ],
      "metadata": {
        "id": "dbhSh0-yJ3wm",
        "outputId": "6966b9a7-784b-48e9-baf6-a4b675fc162a",
        "colab": {
          "base_uri": "https://localhost:8080/"
        }
      },
      "execution_count": 23,
      "outputs": [
        {
          "output_type": "stream",
          "name": "stdout",
          "text": [
            "Ingrese el monto de la actividad económica: 10\n",
            "El impuesto a pagar es: $1.50\n"
          ]
        }
      ]
    },
    {
      "cell_type": "markdown",
      "source": [
        "**Desarrolle el conversor de Área (Superficie) haciendo uso de los\n",
        "diccionarios y las funciones de usuario en Python que contenga las\n",
        "siguientes opciones: (30%)**"
      ],
      "metadata": {
        "id": "lUzocc2aTkui"
      }
    },
    {
      "cell_type": "code",
      "source": [
        "conversor={\n",
        "\"Area\":{\"Hectáreas\":100,\"Metros cuadrados\":10**6,\"Pies cuadrados\":10.764*10**6,\"Yardas cuadradas\":1.196*10**6,\"Pulgadas cuadradas\":1.55*10**9,\"Manzanas\":143.0828,\"Tareas\":143.0828*16, \"Vara Cuadrada\":0.836}\n",
        "}\n",
        "\n",
        "def mostrar_unidades(magnitud):\n",
        "    print(f\"Unidades de {magnitud}:\")\n",
        "    for u in conversor[magnitud].keys():\n",
        "        print(f\"-{u}\")\n",
        "\n",
        "\n",
        "def obtener_unidad(magnitud,tipo):\n",
        "    unidad = input(f\"Convertir {tipo}: \")\n",
        "    if unidad not in conversor[magnitud]:\n",
        "        print(f\"La unidad {unidad} no está disponible en {magnitud}\")\n",
        "        return obtener_unidad(magnitud,tipo)\n",
        "    return unidad\n",
        "\n",
        "def obtener_magnitud():\n",
        "    magnitud=input(\"Ingresa que quieres convertir: \")\n",
        "    if magnitud not in conversor.keys():\n",
        "        print(f\"La magnitud {magnitud} no está disponible\")\n",
        "        return obtener_magnitud()\n",
        "    return magnitud\n",
        "\n",
        "def obtener_cantidad():\n",
        "    try :\n",
        "        cantidad = float(input(\"Cantidad:\"))\n",
        "    except:\n",
        "        print(\"Debes ingresar un numero\")\n",
        "        return obtener_cantidad()\n",
        "    return cantidad\n",
        "\n",
        "def convertir(magnitud,de,a,cantidad):\n",
        "    res=cantidad*conversor[magnitud][a]/conversor[magnitud][de]\n",
        "    print(f\"{cantidad} {de} equivalen a {res} {a}\")\n",
        "\n",
        "mostrar_magnitudes()\n",
        "magnitud = obtener_magnitud()\n",
        "mostrar_unidades(magnitud)\n",
        "de = obtener_unidad(magnitud,\"de\")\n",
        "a= obtener_unidad(magnitud,\"a\")\n",
        "cantidad = obtener_cantidad()\n",
        "convertir(magnitud,de,a,cantidad)"
      ],
      "metadata": {
        "id": "k3dbtNFaSp_U",
        "outputId": "a3602de7-af35-4de6-be68-6ae944658c33",
        "colab": {
          "base_uri": "https://localhost:8080/"
        }
      },
      "execution_count": 22,
      "outputs": [
        {
          "output_type": "stream",
          "name": "stdout",
          "text": [
            "Magnitud disponible:\n",
            "- Area\n",
            "Ingresa que quieres convertir: Area\n",
            "Unidades de Area:\n",
            "-Hectáreas\n",
            "-Metros cuadrados\n",
            "-Pies cuadrados\n",
            "-Yardas cuadradas\n",
            "-Pulgadas cuadradas\n",
            "-Manzanas\n",
            "-Tareas\n",
            "-Vara Cuadrada\n",
            "Convertir de: Metros cuadrados\n",
            "Convertir a: Yardas cuadradas\n",
            "Cantidad:1\n",
            "1.0 Metros cuadrados equivalen a 1.196 Yardas cuadradas\n"
          ]
        }
      ]
    },
    {
      "cell_type": "markdown",
      "source": [
        "**Desarrolle un programa en Python que simule a un cajero automático.\n",
        "Haga uso de las estructuras de control. (30%)**"
      ],
      "metadata": {
        "id": "a2N5aF8iYh-p"
      }
    },
    {
      "cell_type": "code",
      "source": [
        "def cajero_automatico(cantidad):\n",
        "  if cantidad <= 0:\n",
        "    print(\"Ingrese una cantidad válida.\")\n",
        "    return\n",
        "\n",
        "  billetes = [20, 10, 5, 1]\n",
        "  monedas = [0.25, 0.10, 0.01]\n",
        "\n",
        "  for billete in billetes:\n",
        "    num_billetes = int(cantidad // billete)\n",
        "    if num_billetes > 0:\n",
        "      print(f\"{num_billetes} billetes de a {billete}\")\n",
        "      cantidad -= num_billetes * billete\n",
        "\n",
        "  for moneda in monedas:\n",
        "    num_monedas = int(cantidad // moneda)\n",
        "    if num_monedas > 0:\n",
        "      print(f\"{num_monedas} monedas de {moneda:.2f} ctvs.\")\n",
        "      cantidad -= num_monedas * moneda\n",
        "\n",
        "cantidad = float(input(\"Ingrese la cantidad a retirar: \"))\n",
        "cajero_automatico(cantidad)"
      ],
      "metadata": {
        "id": "EjY1_Y3NYcpA",
        "outputId": "5ef3b081-bec9-49e2-bd29-121e849e0cd7",
        "colab": {
          "base_uri": "https://localhost:8080/"
        }
      },
      "execution_count": 20,
      "outputs": [
        {
          "output_type": "stream",
          "name": "stdout",
          "text": [
            "Ingrese la cantidad a retirar: 10\n",
            "1 billetes de a 10\n"
          ]
        }
      ]
    }
  ]
}